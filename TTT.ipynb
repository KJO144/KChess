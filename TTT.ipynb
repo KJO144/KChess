{
 "cells": [
  {
   "cell_type": "code",
   "execution_count": 1,
   "metadata": {},
   "outputs": [],
   "source": [
    "from TTT import minimax, Board, Piece\n",
    "\n",
    "import cProfile\n"
   ]
  },
  {
   "cell_type": "code",
   "execution_count": 2,
   "metadata": {},
   "outputs": [],
   "source": [
    "def run():\n",
    "    pB = Piece('B')\n",
    "    pW = Piece('W')\n",
    "    pE = Piece('E')\n",
    "\n",
    "    pos = {i: pE for i in range(9)}\n",
    "\n",
    "    pos[0] = pW\n",
    "    \n",
    "    board = Board(pos, 'B')\n",
    "\n",
    "    \n",
    "    legal_moves = board.legal_moves()\n",
    "\n",
    "    score = [minimax(board, move) for move in legal_moves]\n",
    "\n",
    "    for (sq,p),s in zip(legal_moves, score):\n",
    "        print(sq, p, s)\n"
   ]
  },
  {
   "cell_type": "code",
   "execution_count": 4,
   "metadata": {
    "tags": []
   },
   "outputs": [
    {
     "output_type": "stream",
     "name": "stdout",
     "text": "1 B 1\n2 B 1\n3 B 1\n4 B 0\n5 B 1\n6 B 1\n7 B 1\n8 B 1\n         2922111 function calls (2830451 primitive calls) in 1.466 seconds\n\n   Ordered by: standard name\n\n   ncalls  tottime  percall  cumtime  percall filename:lineno(function)\n        1    0.000    0.000    1.466    1.466 <ipython-input-2-7d944aad8272>:1(run)\n        1    0.000    0.000    1.465    1.465 <ipython-input-2-7d944aad8272>:15(<listcomp>)\n        1    0.000    0.000    0.000    0.000 <ipython-input-2-7d944aad8272>:6(<dictcomp>)\n        1    0.000    0.000    1.466    1.466 <string>:1(<module>)\n    59705    0.012    0.000    0.012    0.000 TTT.py:13(__init__)\n    37157    0.024    0.000    0.088    0.000 TTT.py:17(legal_moves)\n    37157    0.052    0.000    0.061    0.000 TTT.py:19(<listcomp>)\n    59704    0.045    0.000    0.066    0.000 TTT.py:21(make_move)\n    59704    0.604    0.000    1.187    0.000 TTT.py:34(winner)\n   404048    0.279    0.000    0.279    0.000 TTT.py:40(<listcomp>)\n    59707    0.009    0.000    0.009    0.000 TTT.py:51(__init__)\n   330418    0.044    0.000    0.044    0.000 TTT.py:54(__eq__)\n        8    0.000    0.000    0.000    0.000 TTT.py:57(__str__)\n  1212144    0.237    0.000    0.237    0.000 TTT.py:60(__hash__)\n  59704/8    0.083    0.000    1.465    0.183 TTT.py:64(minimax)\n  31972/8    0.031    0.000    1.465    0.183 TTT.py:83(<listcomp>)\n       49    0.000    0.000    0.001    0.000 iostream.py:197(schedule)\n       48    0.000    0.000    0.000    0.000 iostream.py:310(_is_master_process)\n       48    0.000    0.000    0.000    0.000 iostream.py:323(_schedule_flush)\n       48    0.000    0.000    0.001    0.000 iostream.py:386(write)\n       49    0.000    0.000    0.000    0.000 iostream.py:93(_event_pipe)\n       49    0.000    0.000    0.000    0.000 socket.py:342(send)\n       49    0.000    0.000    0.000    0.000 threading.py:1050(_wait_for_tstate_lock)\n       49    0.000    0.000    0.000    0.000 threading.py:1092(is_alive)\n       49    0.000    0.000    0.000    0.000 threading.py:507(is_set)\n        1    0.000    0.000    1.466    1.466 {built-in method builtins.exec}\n       48    0.000    0.000    0.000    0.000 {built-in method builtins.isinstance}\n   441204    0.025    0.000    0.025    0.000 {built-in method builtins.len}\n    19760    0.005    0.000    0.005    0.000 {built-in method builtins.max}\n    12212    0.003    0.000    0.003    0.000 {built-in method builtins.min}\n        8    0.000    0.000    0.001    0.000 {built-in method builtins.print}\n       48    0.000    0.000    0.000    0.000 {built-in method nt.getpid}\n       49    0.000    0.000    0.000    0.000 {method 'acquire' of '_thread.lock' objects}\n       49    0.000    0.000    0.000    0.000 {method 'append' of 'collections.deque' objects}\n    59704    0.008    0.000    0.008    0.000 {method 'copy' of 'dict' objects}\n        1    0.000    0.000    0.000    0.000 {method 'disable' of '_lsprof.Profiler' objects}\n    37157    0.004    0.000    0.004    0.000 {method 'items' of 'dict' objects}\n\n\n"
    }
   ],
   "source": [
    "cProfile.run(\"run()\")\n",
    "#run()"
   ]
  },
  {
   "cell_type": "code",
   "execution_count": null,
   "metadata": {},
   "outputs": [],
   "source": []
  }
 ],
 "metadata": {
  "kernelspec": {
   "display_name": "Python 3",
   "language": "python",
   "name": "python3"
  },
  "language_info": {
   "codemirror_mode": {
    "name": "ipython",
    "version": 3
   },
   "file_extension": ".py",
   "mimetype": "text/x-python",
   "name": "python",
   "nbconvert_exporter": "python",
   "pygments_lexer": "ipython3",
   "version": "3.7.7"
  }
 },
 "nbformat": 4,
 "nbformat_minor": 4
}