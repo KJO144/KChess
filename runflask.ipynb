{
 "cells": [
  {
   "cell_type": "code",
   "execution_count": null,
   "metadata": {},
   "outputs": [],
   "source": [
    "from flask import Flask\n",
    "from flask_cors import CORS, cross_origin\n",
    "from draughts import DraughtsBoard, DraughtsPiece\n",
    "from chess import ChessBoard, ChessPiece\n",
    "from minimax import best_move\n",
    "from base import Player\n",
    "import json"
   ]
  },
  {
   "cell_type": "code",
   "execution_count": null,
   "metadata": {},
   "outputs": [],
   "source": [
    "board_types = {'draughts': DraughtsBoard, 'chess': ChessBoard}\n",
    "piece_types = {'draughts': DraughtsPiece, 'chess': ChessPiece}"
   ]
  },
  {
   "cell_type": "code",
   "execution_count": null,
   "metadata": {},
   "outputs": [],
   "source": [
    "app = Flask(__name__)\n",
    "cors = CORS(app)\n",
    "app.config['CORS_HEADERS'] = 'Content-Type'\n",
    "\n",
    "def json_to_board(game, board_position_json):\n",
    "    \n",
    "    board_position = json.loads(board_position_json)\n",
    "    \n",
    "    board_position['player_to_move'] = Player[board_position['player_to_move']]\n",
    "   \n",
    "    board_type = board_types[game]\n",
    "    piece_type = piece_types[game]\n",
    "    \n",
    "    board_position['position'] = {(int(sq[1]), int(sq[2])): piece_type[piece] for sq, piece in board_position['position'].items()}\n",
    "\n",
    "    if board_position.get('move'):\n",
    "        del(board_position['move'])\n",
    "\n",
    "    board = board_type.from_dict(board_position)\n",
    "\n",
    "    return board\n",
    "    \n",
    "@app.route('/<game>/initial_position')\n",
    "@cross_origin()\n",
    "def initial_position(game):\n",
    "    board_type = board_types[game]\n",
    "    b = board_type()\n",
    "    return b.to_json()\n",
    "\n",
    "@app.route('/<game>/pos/<position_json>')\n",
    "@cross_origin()\n",
    "def make_move_given_position(game, position_json):\n",
    "    \"Given a position, find the best move and return the new board with that move played.\"\n",
    "\n",
    "    board = json_to_board(game, position_json)\n",
    "    \n",
    "    move = best_move(board, 0)\n",
    "    new_board = board.make_move(move)\n",
    "    \n",
    "    ret = new_board.to_json()\n",
    "\n",
    "    return ret\n",
    "\n",
    "@app.route('/<game>/move/<pos_and_move_json>')\n",
    "@cross_origin()\n",
    "def play_move(game, pos_and_move_json):\n",
    "    \"\"\"\n",
    "    Given a position and a move, play that move and return the new board.\n",
    "    If the move is illegal, just return the original position.\n",
    "    The move is in the format S13_S34\n",
    "    \"\"\"    \n",
    "    board = json_to_board(game, pos_and_move_json)\n",
    "    \n",
    "    \n",
    "    move = json.loads(pos_and_move_json)['move']\n",
    "           \n",
    "    move = ((int(move[1]), int(move[2])), (int(move[5]), int(move[6])))\n",
    "   \n",
    "    legal_moves = board.legal_moves()\n",
    "\n",
    "    if move in legal_moves:\n",
    "        new_board = board.make_move(move)\n",
    "    else:\n",
    "        print(move, ' is not legal.')\n",
    "        new_board = board\n",
    "    \n",
    "    ret = new_board.to_json()\n",
    "\n",
    "    return ret\n",
    "\n"
   ]
  },
  {
   "cell_type": "code",
   "execution_count": null,
   "metadata": {
    "scrolled": false
   },
   "outputs": [],
   "source": [
    "app.run()"
   ]
  },
  {
   "cell_type": "code",
   "execution_count": null,
   "metadata": {},
   "outputs": [],
   "source": []
  }
 ],
 "metadata": {
  "kernelspec": {
   "display_name": "Python 3",
   "language": "python",
   "name": "python3"
  },
  "language_info": {
   "codemirror_mode": {
    "name": "ipython",
    "version": 3
   },
   "file_extension": ".py",
   "mimetype": "text/x-python",
   "name": "python",
   "nbconvert_exporter": "python",
   "pygments_lexer": "ipython3",
   "version": "3.7.7"
  }
 },
 "nbformat": 4,
 "nbformat_minor": 4
}
