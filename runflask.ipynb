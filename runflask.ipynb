{
 "cells": [
  {
   "cell_type": "code",
   "execution_count": null,
   "metadata": {},
   "outputs": [],
   "source": [
    "from flask import Flask\n",
    "from flask_cors import CORS, cross_origin\n",
    "from draghts import DraughtsBoard, DraughtsPiece\n",
    "from minimax import best_move\n",
    "from flask import jsonify\n",
    "from base import Player\n",
    "import re"
   ]
  },
  {
   "cell_type": "code",
   "execution_count": null,
   "metadata": {},
   "outputs": [],
   "source": [
    "regexp = \"S([0-9])([0-9])_([A-Z]{1,2})\""
   ]
  },
  {
   "cell_type": "code",
   "execution_count": null,
   "metadata": {},
   "outputs": [],
   "source": [
    "app = Flask(__name__)\n",
    "cors = CORS(app)\n",
    "app.config['CORS_HEADERS'] = 'Content-Type'\n",
    "\n",
    "@app.route('/initial_position')\n",
    "@cross_origin()\n",
    "def initial_position():\n",
    "    b = DraughtsBoard()\n",
    "    pos = b.position\n",
    "    pos = {f\"S{square[0]}{square[1]}\": piece.name for square, piece in pos.items() }\n",
    "    return jsonify(pos)\n",
    "    #return b.to_string()\n",
    "\n",
    "@app.route('/move/<pos_string>')\n",
    "@cross_origin()\n",
    "def make_move(pos_string):\n",
    "    print(\"in make_move\")\n",
    "    #pos_string = \"S00_E&S01_E&S02_E&S03_E&S04_E&S05_E&S06_E\"\n",
    "    pos_list = pos_string.split(\"&\")\n",
    "    tomove = pos_list[0]\n",
    "    pos_list = pos_list[1:]\n",
    "    groups = [re.match(regexp, x).groups() for x in pos_list]\n",
    "    pos = {(int(x[0]), int(x[1])): DraughtsPiece[x[2]] for x in groups}\n",
    "    board = DraughtsBoard(pos, Player[tomove])\n",
    "    move = best_move(board, 2)\n",
    "    new_board = board.make_move(move)\n",
    "    \n",
    "    #print(position)\n",
    "    ret = {f\"S{square[0]}{square[1]}\": piece.name for square, piece in new_board.position.items() }\n",
    "\n",
    "    ret = jsonify(ret)\n",
    "    return ret\n",
    "\n",
    "\n"
   ]
  },
  {
   "cell_type": "code",
   "execution_count": null,
   "metadata": {},
   "outputs": [],
   "source": [
    "app.run()"
   ]
  },
  {
   "cell_type": "code",
   "execution_count": null,
   "metadata": {},
   "outputs": [],
   "source": []
  }
 ],
 "metadata": {
  "kernelspec": {
   "display_name": "Python 3",
   "language": "python",
   "name": "python3"
  },
  "language_info": {
   "codemirror_mode": {
    "name": "ipython",
    "version": 3
   },
   "file_extension": ".py",
   "mimetype": "text/x-python",
   "name": "python",
   "nbconvert_exporter": "python",
   "pygments_lexer": "ipython3",
   "version": "3.7.7"
  }
 },
 "nbformat": 4,
 "nbformat_minor": 4
}
