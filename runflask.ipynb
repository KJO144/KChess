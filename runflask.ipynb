{
 "cells": [
  {
   "cell_type": "code",
   "execution_count": 1,
   "metadata": {},
   "outputs": [],
   "source": [
    "from flask import Flask\n",
    "from flask_cors import CORS, cross_origin\n",
    "from draughts import DraughtsBoard, DraughtsPiece\n",
    "from chess import ChessBoard, ChessPiece\n",
    "from minimax import best_move\n",
    "from flask import jsonify\n",
    "from base import Player\n",
    "import re\n",
    "import json"
   ]
  },
  {
   "cell_type": "code",
   "execution_count": 2,
   "metadata": {},
   "outputs": [],
   "source": [
    "board_types = {'draughts': DraughtsBoard, 'chess': ChessBoard}\n",
    "piece_types = {'draughts': DraughtsPiece, 'chess': ChessPiece}\n",
    "#T = board_types['draughts']\n"
   ]
  },
  {
   "cell_type": "code",
   "execution_count": 3,
   "metadata": {},
   "outputs": [],
   "source": [
    "app = Flask(__name__)\n",
    "cors = CORS(app)\n",
    "app.config['CORS_HEADERS'] = 'Content-Type'\n",
    "\n",
    "def board_to_json(board):\n",
    "    pos = {f\"S{square[0]}{square[1]}\": piece.name for square, piece in board.position.items() }\n",
    "    tomove = board.player_to_move.name\n",
    "    winner = board.winner()\n",
    "    if winner is not None:\n",
    "        winner = winner.name\n",
    "    ret = {'pos': pos, 'tomove': tomove, 'winner': winner}\n",
    "    ret = jsonify(ret)\n",
    "    return ret\n",
    "    \n",
    "    \n",
    "@app.route('/<game>/initial_position')\n",
    "@cross_origin()\n",
    "def initial_position(game):\n",
    "    board_type = board_types[game]\n",
    "    b = board_type()\n",
    "    return board_to_json(b)\n",
    "\n",
    "@app.route('/<game>/pos/<position_json>')\n",
    "@cross_origin()\n",
    "def make_move_given_position(game, position_json):\n",
    "    \"given a position, find the best move and return the new board with that move played\"\n",
    "#     print(\"in make_move_given_position\")\n",
    "    position = json.loads(position_json)\n",
    "    \n",
    "    tomove = position['tomove']\n",
    "    board_pos = position['pos']\n",
    "#     print(\"tomove: \", tomove)\n",
    "#     print(\"board_pos: \", board_pos)\n",
    "    \n",
    "    board_type = board_types[game]\n",
    "    piece_type = piece_types[game]\n",
    "    \n",
    "    \n",
    "    board_pos = {(int(sq[1]), int(sq[2])): piece_type[piece] for sq, piece in board_pos.items()}\n",
    "    board = board_type(board_pos, Player[tomove])\n",
    "    move = best_move(board, 2)\n",
    "    new_board = board.make_move(move)\n",
    "    \n",
    "    ret = board_to_json(new_board)\n",
    "#     print(\"leaving make_move_given_position\")\n",
    "    return(ret)\n",
    "\n",
    "@app.route('/<game>/move/<pos_and_move_json>')\n",
    "@cross_origin()\n",
    "def play_move(game, pos_and_move_json):\n",
    "    \"\"\"\n",
    "    Given a position and a move, play that move and return the new board.\n",
    "    If the move is illegal, just return the original position.\n",
    "    The move is in the format S13_S34\n",
    "    \"\"\"\n",
    "#     print(\"in play_move\")\n",
    "\n",
    "\n",
    "    pos = json.loads(pos_and_move_json)\n",
    "    tomove = pos['tomove']\n",
    "    board_pos = pos['pos']\n",
    "    move = pos['move']\n",
    "    \n",
    "    move = ((int(move[1]), int(move[2])), (int(move[5]), int(move[6])))\n",
    "    print(move)\n",
    "\n",
    "    board_type = board_types[game]\n",
    "    piece_type = piece_types[game]\n",
    "\n",
    "    board_pos = {(int(sq[1]), int(sq[2])): piece_type[piece] for sq, piece in board_pos.items()}\n",
    "    board = board_type(board_pos, Player[tomove])\n",
    "    \n",
    "    legal_moves = board.legal_moves()\n",
    "    \n",
    "    if move in legal_moves:\n",
    "        new_board = board.make_move(move)\n",
    "    else:\n",
    "        new_board = board\n",
    "    \n",
    "    ret = board_to_json(new_board)\n",
    "#     print(\"leaving play_move\")\n",
    "    return ret\n",
    "\n"
   ]
  },
  {
   "cell_type": "code",
   "execution_count": 4,
   "metadata": {
    "scrolled": false
   },
   "outputs": [
    {
     "name": "stdout",
     "output_type": "stream",
     "text": [
      " * Serving Flask app \"__main__\" (lazy loading)\n",
      " * Environment: production\n",
      "   WARNING: This is a development server. Do not use it in a production deployment.\n",
      "   Use a production WSGI server instead.\n",
      " * Debug mode: off\n"
     ]
    },
    {
     "name": "stderr",
     "output_type": "stream",
     "text": [
      " * Running on http://127.0.0.1:5000/ (Press CTRL+C to quit)\n",
      "127.0.0.1 - - [06/Sep/2020 13:23:52] \"\u001b[37mGET /chess/initial_position HTTP/1.1\u001b[0m\" 200 -\n",
      "127.0.0.1 - - [06/Sep/2020 13:23:54] \"\u001b[37mGET /chess/move/%7B%22pos%22:%7B%22S70%22:%22BR%22,%22S71%22:%22BN%22,%22S72%22:%22BB%22,%22S73%22:%22BQ%22,%22S74%22:%22BK%22,%22S75%22:%22BB%22,%22S76%22:%22BN%22,%22S77%22:%22BR%22,%22S60%22:%22BP%22,%22S61%22:%22BP%22,%22S62%22:%22BP%22,%22S63%22:%22BP%22,%22S64%22:%22BP%22,%22S65%22:%22BP%22,%22S66%22:%22BP%22,%22S67%22:%22BP%22,%22S50%22:%22E%22,%22S51%22:%22E%22,%22S52%22:%22E%22,%22S53%22:%22E%22,%22S54%22:%22E%22,%22S55%22:%22E%22,%22S56%22:%22E%22,%22S57%22:%22E%22,%22S40%22:%22E%22,%22S41%22:%22E%22,%22S42%22:%22E%22,%22S43%22:%22E%22,%22S44%22:%22E%22,%22S45%22:%22E%22,%22S46%22:%22E%22,%22S47%22:%22E%22,%22S30%22:%22E%22,%22S31%22:%22E%22,%22S32%22:%22E%22,%22S33%22:%22E%22,%22S34%22:%22E%22,%22S35%22:%22E%22,%22S36%22:%22E%22,%22S37%22:%22E%22,%22S20%22:%22E%22,%22S21%22:%22E%22,%22S22%22:%22E%22,%22S23%22:%22E%22,%22S24%22:%22E%22,%22S25%22:%22E%22,%22S26%22:%22E%22,%22S27%22:%22E%22,%22S10%22:%22WP%22,%22S11%22:%22WP%22,%22S12%22:%22WP%22,%22S13%22:%22WP%22,%22S14%22:%22WP%22,%22S15%22:%22WP%22,%22S16%22:%22WP%22,%22S17%22:%22WP%22,%22S00%22:%22WR%22,%22S01%22:%22WN%22,%22S02%22:%22WB%22,%22S03%22:%22WQ%22,%22S04%22:%22WK%22,%22S05%22:%22WB%22,%22S06%22:%22WN%22,%22S07%22:%22WR%22%7D,%22tomove%22:%22W%22,%22move%22:%22S14_S34%22%7D HTTP/1.1\u001b[0m\" 200 -\n"
     ]
    },
    {
     "name": "stdout",
     "output_type": "stream",
     "text": [
      "((1, 4), (3, 4))\n"
     ]
    },
    {
     "name": "stderr",
     "output_type": "stream",
     "text": [
      "127.0.0.1 - - [06/Sep/2020 13:24:13] \"\u001b[37mGET /chess/pos/%7B%22pos%22:%7B%22S70%22:%22BR%22,%22S71%22:%22BN%22,%22S72%22:%22BB%22,%22S73%22:%22BQ%22,%22S74%22:%22BK%22,%22S75%22:%22BB%22,%22S76%22:%22BN%22,%22S77%22:%22BR%22,%22S60%22:%22BP%22,%22S61%22:%22BP%22,%22S62%22:%22BP%22,%22S63%22:%22BP%22,%22S64%22:%22BP%22,%22S65%22:%22BP%22,%22S66%22:%22BP%22,%22S67%22:%22BP%22,%22S50%22:%22E%22,%22S51%22:%22E%22,%22S52%22:%22E%22,%22S53%22:%22E%22,%22S54%22:%22E%22,%22S55%22:%22E%22,%22S56%22:%22E%22,%22S57%22:%22E%22,%22S40%22:%22E%22,%22S41%22:%22E%22,%22S42%22:%22E%22,%22S43%22:%22E%22,%22S44%22:%22E%22,%22S45%22:%22E%22,%22S46%22:%22E%22,%22S47%22:%22E%22,%22S30%22:%22E%22,%22S31%22:%22E%22,%22S32%22:%22E%22,%22S33%22:%22E%22,%22S34%22:%22WP%22,%22S35%22:%22E%22,%22S36%22:%22E%22,%22S37%22:%22E%22,%22S20%22:%22E%22,%22S21%22:%22E%22,%22S22%22:%22E%22,%22S23%22:%22E%22,%22S24%22:%22E%22,%22S25%22:%22E%22,%22S26%22:%22E%22,%22S27%22:%22E%22,%22S10%22:%22WP%22,%22S11%22:%22WP%22,%22S12%22:%22WP%22,%22S13%22:%22WP%22,%22S14%22:%22E%22,%22S15%22:%22WP%22,%22S16%22:%22WP%22,%22S17%22:%22WP%22,%22S00%22:%22WR%22,%22S01%22:%22WN%22,%22S02%22:%22WB%22,%22S03%22:%22WQ%22,%22S04%22:%22WK%22,%22S05%22:%22WB%22,%22S06%22:%22WN%22,%22S07%22:%22WR%22%7D,%22tomove%22:%22B%22%7D HTTP/1.1\u001b[0m\" 200 -\n",
      "127.0.0.1 - - [06/Sep/2020 13:24:17] \"\u001b[37mGET /chess/move/%7B%22pos%22:%7B%22S70%22:%22BR%22,%22S71%22:%22E%22,%22S72%22:%22BB%22,%22S73%22:%22BQ%22,%22S74%22:%22BK%22,%22S75%22:%22BB%22,%22S76%22:%22BN%22,%22S77%22:%22BR%22,%22S60%22:%22BP%22,%22S61%22:%22BP%22,%22S62%22:%22BP%22,%22S63%22:%22BP%22,%22S64%22:%22BP%22,%22S65%22:%22BP%22,%22S66%22:%22BP%22,%22S67%22:%22BP%22,%22S50%22:%22E%22,%22S51%22:%22E%22,%22S52%22:%22BN%22,%22S53%22:%22E%22,%22S54%22:%22E%22,%22S55%22:%22E%22,%22S56%22:%22E%22,%22S57%22:%22E%22,%22S40%22:%22E%22,%22S41%22:%22E%22,%22S42%22:%22E%22,%22S43%22:%22E%22,%22S44%22:%22E%22,%22S45%22:%22E%22,%22S46%22:%22E%22,%22S47%22:%22E%22,%22S30%22:%22E%22,%22S31%22:%22E%22,%22S32%22:%22E%22,%22S33%22:%22E%22,%22S34%22:%22WP%22,%22S35%22:%22E%22,%22S36%22:%22E%22,%22S37%22:%22E%22,%22S20%22:%22E%22,%22S21%22:%22E%22,%22S22%22:%22E%22,%22S23%22:%22E%22,%22S24%22:%22E%22,%22S25%22:%22E%22,%22S26%22:%22E%22,%22S27%22:%22E%22,%22S10%22:%22WP%22,%22S11%22:%22WP%22,%22S12%22:%22WP%22,%22S13%22:%22WP%22,%22S14%22:%22E%22,%22S15%22:%22WP%22,%22S16%22:%22WP%22,%22S17%22:%22WP%22,%22S00%22:%22WR%22,%22S01%22:%22WN%22,%22S02%22:%22WB%22,%22S03%22:%22WQ%22,%22S04%22:%22WK%22,%22S05%22:%22WB%22,%22S06%22:%22WN%22,%22S07%22:%22WR%22%7D,%22tomove%22:%22W%22,%22move%22:%22S03_S47%22%7D HTTP/1.1\u001b[0m\" 200 -\n"
     ]
    },
    {
     "name": "stdout",
     "output_type": "stream",
     "text": [
      "((0, 3), (4, 7))\n"
     ]
    },
    {
     "name": "stderr",
     "output_type": "stream",
     "text": [
      "127.0.0.1 - - [06/Sep/2020 13:24:42] \"\u001b[37mGET /chess/pos/%7B%22pos%22:%7B%22S70%22:%22BR%22,%22S71%22:%22E%22,%22S72%22:%22BB%22,%22S73%22:%22BQ%22,%22S74%22:%22BK%22,%22S75%22:%22BB%22,%22S76%22:%22BN%22,%22S77%22:%22BR%22,%22S60%22:%22BP%22,%22S61%22:%22BP%22,%22S62%22:%22BP%22,%22S63%22:%22BP%22,%22S64%22:%22BP%22,%22S65%22:%22BP%22,%22S66%22:%22BP%22,%22S67%22:%22BP%22,%22S50%22:%22E%22,%22S51%22:%22E%22,%22S52%22:%22BN%22,%22S53%22:%22E%22,%22S54%22:%22E%22,%22S55%22:%22E%22,%22S56%22:%22E%22,%22S57%22:%22E%22,%22S40%22:%22E%22,%22S41%22:%22E%22,%22S42%22:%22E%22,%22S43%22:%22E%22,%22S44%22:%22E%22,%22S45%22:%22E%22,%22S46%22:%22E%22,%22S47%22:%22WQ%22,%22S30%22:%22E%22,%22S31%22:%22E%22,%22S32%22:%22E%22,%22S33%22:%22E%22,%22S34%22:%22WP%22,%22S35%22:%22E%22,%22S36%22:%22E%22,%22S37%22:%22E%22,%22S20%22:%22E%22,%22S21%22:%22E%22,%22S22%22:%22E%22,%22S23%22:%22E%22,%22S24%22:%22E%22,%22S25%22:%22E%22,%22S26%22:%22E%22,%22S27%22:%22E%22,%22S10%22:%22WP%22,%22S11%22:%22WP%22,%22S12%22:%22WP%22,%22S13%22:%22WP%22,%22S14%22:%22E%22,%22S15%22:%22WP%22,%22S16%22:%22WP%22,%22S17%22:%22WP%22,%22S00%22:%22WR%22,%22S01%22:%22WN%22,%22S02%22:%22WB%22,%22S03%22:%22E%22,%22S04%22:%22WK%22,%22S05%22:%22WB%22,%22S06%22:%22WN%22,%22S07%22:%22WR%22%7D,%22tomove%22:%22B%22%7D HTTP/1.1\u001b[0m\" 200 -\n",
      "127.0.0.1 - - [06/Sep/2020 13:24:46] \"\u001b[37mGET /chess/move/%7B%22pos%22:%7B%22S70%22:%22BR%22,%22S71%22:%22E%22,%22S72%22:%22BB%22,%22S73%22:%22BQ%22,%22S74%22:%22BK%22,%22S75%22:%22BB%22,%22S76%22:%22E%22,%22S77%22:%22BR%22,%22S60%22:%22BP%22,%22S61%22:%22BP%22,%22S62%22:%22BP%22,%22S63%22:%22BP%22,%22S64%22:%22BP%22,%22S65%22:%22BP%22,%22S66%22:%22BP%22,%22S67%22:%22BP%22,%22S50%22:%22E%22,%22S51%22:%22E%22,%22S52%22:%22BN%22,%22S53%22:%22E%22,%22S54%22:%22E%22,%22S55%22:%22BN%22,%22S56%22:%22E%22,%22S57%22:%22E%22,%22S40%22:%22E%22,%22S41%22:%22E%22,%22S42%22:%22E%22,%22S43%22:%22E%22,%22S44%22:%22E%22,%22S45%22:%22E%22,%22S46%22:%22E%22,%22S47%22:%22WQ%22,%22S30%22:%22E%22,%22S31%22:%22E%22,%22S32%22:%22E%22,%22S33%22:%22E%22,%22S34%22:%22WP%22,%22S35%22:%22E%22,%22S36%22:%22E%22,%22S37%22:%22E%22,%22S20%22:%22E%22,%22S21%22:%22E%22,%22S22%22:%22E%22,%22S23%22:%22E%22,%22S24%22:%22E%22,%22S25%22:%22E%22,%22S26%22:%22E%22,%22S27%22:%22E%22,%22S10%22:%22WP%22,%22S11%22:%22WP%22,%22S12%22:%22WP%22,%22S13%22:%22WP%22,%22S14%22:%22E%22,%22S15%22:%22WP%22,%22S16%22:%22WP%22,%22S17%22:%22WP%22,%22S00%22:%22WR%22,%22S01%22:%22WN%22,%22S02%22:%22WB%22,%22S03%22:%22E%22,%22S04%22:%22WK%22,%22S05%22:%22WB%22,%22S06%22:%22WN%22,%22S07%22:%22WR%22%7D,%22tomove%22:%22W%22,%22move%22:%22S05_S32%22%7D HTTP/1.1\u001b[0m\" 200 -\n"
     ]
    },
    {
     "name": "stdout",
     "output_type": "stream",
     "text": [
      "((0, 5), (3, 2))\n"
     ]
    },
    {
     "name": "stderr",
     "output_type": "stream",
     "text": [
      "127.0.0.1 - - [06/Sep/2020 13:25:19] \"\u001b[37mGET /chess/pos/%7B%22pos%22:%7B%22S70%22:%22BR%22,%22S71%22:%22E%22,%22S72%22:%22BB%22,%22S73%22:%22BQ%22,%22S74%22:%22BK%22,%22S75%22:%22BB%22,%22S76%22:%22E%22,%22S77%22:%22BR%22,%22S60%22:%22BP%22,%22S61%22:%22BP%22,%22S62%22:%22BP%22,%22S63%22:%22BP%22,%22S64%22:%22BP%22,%22S65%22:%22BP%22,%22S66%22:%22BP%22,%22S67%22:%22BP%22,%22S50%22:%22E%22,%22S51%22:%22E%22,%22S52%22:%22BN%22,%22S53%22:%22E%22,%22S54%22:%22E%22,%22S55%22:%22BN%22,%22S56%22:%22E%22,%22S57%22:%22E%22,%22S40%22:%22E%22,%22S41%22:%22E%22,%22S42%22:%22E%22,%22S43%22:%22E%22,%22S44%22:%22E%22,%22S45%22:%22E%22,%22S46%22:%22E%22,%22S47%22:%22WQ%22,%22S30%22:%22E%22,%22S31%22:%22E%22,%22S32%22:%22WB%22,%22S33%22:%22E%22,%22S34%22:%22WP%22,%22S35%22:%22E%22,%22S36%22:%22E%22,%22S37%22:%22E%22,%22S20%22:%22E%22,%22S21%22:%22E%22,%22S22%22:%22E%22,%22S23%22:%22E%22,%22S24%22:%22E%22,%22S25%22:%22E%22,%22S26%22:%22E%22,%22S27%22:%22E%22,%22S10%22:%22WP%22,%22S11%22:%22WP%22,%22S12%22:%22WP%22,%22S13%22:%22WP%22,%22S14%22:%22E%22,%22S15%22:%22WP%22,%22S16%22:%22WP%22,%22S17%22:%22WP%22,%22S00%22:%22WR%22,%22S01%22:%22WN%22,%22S02%22:%22WB%22,%22S03%22:%22E%22,%22S04%22:%22WK%22,%22S05%22:%22E%22,%22S06%22:%22WN%22,%22S07%22:%22WR%22%7D,%22tomove%22:%22B%22%7D HTTP/1.1\u001b[0m\" 200 -\n"
     ]
    }
   ],
   "source": [
    "app.run()"
   ]
  },
  {
   "cell_type": "code",
   "execution_count": null,
   "metadata": {},
   "outputs": [],
   "source": []
  }
 ],
 "metadata": {
  "kernelspec": {
   "display_name": "Python 3",
   "language": "python",
   "name": "python3"
  },
  "language_info": {
   "codemirror_mode": {
    "name": "ipython",
    "version": 3
   },
   "file_extension": ".py",
   "mimetype": "text/x-python",
   "name": "python",
   "nbconvert_exporter": "python",
   "pygments_lexer": "ipython3",
   "version": "3.7.7"
  }
 },
 "nbformat": 4,
 "nbformat_minor": 4
}
