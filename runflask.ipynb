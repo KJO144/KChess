{
 "cells": [
  {
   "cell_type": "code",
   "execution_count": null,
   "metadata": {},
   "outputs": [],
   "source": [
    "from flask import Flask\n",
    "from flask_cors import CORS, cross_origin\n",
    "from draghts import DraughtsBoard, DraughtsPiece\n",
    "from minimax import best_move\n",
    "from flask import jsonify\n",
    "from base import Player\n",
    "import re\n",
    "import json"
   ]
  },
  {
   "cell_type": "code",
   "execution_count": null,
   "metadata": {},
   "outputs": [],
   "source": [
    "app = Flask(__name__)\n",
    "cors = CORS(app)\n",
    "app.config['CORS_HEADERS'] = 'Content-Type'\n",
    "\n",
    "def board_to_json(board):\n",
    "    pos = {f\"S{square[0]}{square[1]}\": piece.name for square, piece in board.position.items() }\n",
    "    tomove = board.player_to_move.name\n",
    "    winner = board.winner()\n",
    "    if winner is not None:\n",
    "        winner = winner.name\n",
    "    ret = {'pos': pos, 'tomove': tomove, 'winner': winner}\n",
    "    json = jsonify(ret)\n",
    "    return json\n",
    "    \n",
    "\n",
    "@app.route('/initial_position')\n",
    "@cross_origin()\n",
    "def initial_position():\n",
    "    b = DraughtsBoard()\n",
    "    return board_to_json(b)\n",
    "\n",
    "@app.route('/move/<position_json>')\n",
    "@cross_origin()\n",
    "def make_move(position_json):\n",
    "    position = json.loads(position_json)\n",
    "    tomove = position['tomove']\n",
    "    board_pos = position['pos']\n",
    "    board_pos = {(int(sq[1]), int(sq[2])): DraughtsPiece[piece] for sq, piece in board_pos.items()}\n",
    "    board = DraughtsBoard(board_pos, Player[tomove])\n",
    "    move = best_move(board, 2)\n",
    "    new_board = board.make_move(move)\n",
    "    \n",
    "    return(board_to_json(new_board))\n"
   ]
  },
  {
   "cell_type": "code",
   "execution_count": null,
   "metadata": {},
   "outputs": [],
   "source": [
    "app.run()"
   ]
  }
 ],
 "metadata": {
  "kernelspec": {
   "display_name": "Python 3",
   "language": "python",
   "name": "python3"
  },
  "language_info": {
   "codemirror_mode": {
    "name": "ipython",
    "version": 3
   },
   "file_extension": ".py",
   "mimetype": "text/x-python",
   "name": "python",
   "nbconvert_exporter": "python",
   "pygments_lexer": "ipython3",
   "version": "3.7.7"
  }
 },
 "nbformat": 4,
 "nbformat_minor": 4
}
