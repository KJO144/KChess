{
 "cells": [
  {
   "cell_type": "code",
   "execution_count": 1,
   "metadata": {},
   "outputs": [],
   "source": [
    "from flask import Flask\n",
    "from flask_cors import CORS, cross_origin\n",
    "from draghts import DraughtsBoard, DraughtsPiece\n",
    "from minimax import best_move\n",
    "from flask import jsonify\n",
    "from base import Player\n",
    "import re"
   ]
  },
  {
   "cell_type": "code",
   "execution_count": 2,
   "metadata": {},
   "outputs": [],
   "source": [
    "regexp = \"S([0-9])([0-9])_([A-Z]{1,2})\""
   ]
  },
  {
   "cell_type": "code",
   "execution_count": 3,
   "metadata": {},
   "outputs": [],
   "source": [
    "\n",
    "\n",
    "app = Flask(__name__)\n",
    "cors = CORS(app)\n",
    "app.config['CORS_HEADERS'] = 'Content-Type'\n",
    "\n",
    "@app.route('/initial_position')\n",
    "@cross_origin()\n",
    "def initial_position():\n",
    "    b = DraughtsBoard()\n",
    "    pos = b.position\n",
    "    pos = {f\"S{square[0]}{square[1]}\": piece.name for square, piece in pos.items() }\n",
    "    return jsonify(pos)\n",
    "    #return b.to_string()\n",
    "\n",
    "@app.route('/move/<pos_string>')\n",
    "@cross_origin()\n",
    "def make_move(pos_string):\n",
    "    print(\"in make_move\")\n",
    "    #pos_string = \"S00_E&S01_E&S02_E&S03_E&S04_E&S05_E&S06_E\"\n",
    "    pos_list = pos_string.split(\"&\")\n",
    "    tomove = pos_list[0]\n",
    "    pos_list = pos_list[1:]\n",
    "    groups = [re.match(regexp, x).groups() for x in pos_list]\n",
    "    pos = {(int(x[0]), int(x[1])): DraughtsPiece[x[2]] for x in groups}\n",
    "    board = DraughtsBoard(pos, Player[tomove])\n",
    "    move = best_move(board, 2)\n",
    "    new_board = board.make_move(move)\n",
    "    \n",
    "    #print(position)\n",
    "    ret = {f\"S{square[0]}{square[1]}\": piece.name for square, piece in new_board.position.items() }\n",
    "\n",
    "    ret = jsonify(ret)\n",
    "    return ret\n",
    "\n",
    "\n"
   ]
  },
  {
   "cell_type": "code",
   "execution_count": null,
   "metadata": {},
   "outputs": [],
   "source": [
    "\n"
   ]
  },
  {
   "cell_type": "code",
   "execution_count": null,
   "metadata": {},
   "outputs": [
    {
     "name": "stdout",
     "output_type": "stream",
     "text": [
      " * Serving Flask app \"__main__\" (lazy loading)\n",
      " * Environment: production\n",
      "   WARNING: This is a development server. Do not use it in a production deployment.\n",
      "   Use a production WSGI server instead.\n",
      " * Debug mode: off\n"
     ]
    },
    {
     "name": "stderr",
     "output_type": "stream",
     "text": [
      " * Running on http://127.0.0.1:5000/ (Press CTRL+C to quit)\n",
      "127.0.0.1 - - [29/Aug/2020 21:37:19] \"\u001b[37mGET /initial_position HTTP/1.1\u001b[0m\" 200 -\n",
      "127.0.0.1 - - [29/Aug/2020 21:37:21] \"\u001b[37mGET /move/B&S00_E&S01_W&S02_E&S03_W&S04_E&S05_W&S06_E&S07_W&S10_W&S11_E&S12_W&S13_E&S14_W&S15_E&S16_W&S17_E&S20_E&S21_W&S22_E&S23_W&S24_E&S25_W&S26_E&S27_W&S30_E&S31_E&S32_E&S33_E&S34_E&S35_E&S36_E&S37_E&S40_E&S41_E&S42_E&S43_E&S44_E&S45_E&S46_E&S47_E&S50_B&S51_E&S52_B&S53_E&S54_B&S55_E&S56_B&S57_E&S60_E&S61_B&S62_E&S63_B&S64_E&S65_B&S66_E&S67_B&S70_B&S71_E&S72_B&S73_E&S74_B&S75_E&S76_B&S77_E HTTP/1.1\u001b[0m\" 200 -\n"
     ]
    },
    {
     "name": "stdout",
     "output_type": "stream",
     "text": [
      "in make_move\n"
     ]
    },
    {
     "name": "stderr",
     "output_type": "stream",
     "text": [
      "127.0.0.1 - - [29/Aug/2020 21:37:23] \"\u001b[37mGET /move/W&S00_E&S01_W&S02_E&S03_W&S04_E&S05_W&S06_E&S07_W&S10_W&S11_E&S12_W&S13_E&S14_W&S15_E&S16_W&S17_E&S20_E&S21_W&S22_E&S23_W&S24_E&S25_W&S26_E&S27_W&S30_E&S31_E&S32_E&S33_E&S34_E&S35_E&S36_E&S37_E&S40_E&S41_B&S42_E&S43_E&S44_E&S45_E&S46_E&S47_E&S50_E&S51_E&S52_B&S53_E&S54_B&S55_E&S56_B&S57_E&S60_E&S61_B&S62_E&S63_B&S64_E&S65_B&S66_E&S67_B&S70_B&S71_E&S72_B&S73_E&S74_B&S75_E&S76_B&S77_E HTTP/1.1\u001b[0m\" 200 -\n"
     ]
    },
    {
     "name": "stdout",
     "output_type": "stream",
     "text": [
      "in make_move\n"
     ]
    },
    {
     "name": "stderr",
     "output_type": "stream",
     "text": [
      "127.0.0.1 - - [29/Aug/2020 21:37:24] \"\u001b[37mGET /move/B&S00_E&S01_W&S02_E&S03_W&S04_E&S05_W&S06_E&S07_W&S10_W&S11_E&S12_W&S13_E&S14_W&S15_E&S16_W&S17_E&S20_E&S21_E&S22_E&S23_W&S24_E&S25_W&S26_E&S27_W&S30_E&S31_E&S32_W&S33_E&S34_E&S35_E&S36_E&S37_E&S40_E&S41_B&S42_E&S43_E&S44_E&S45_E&S46_E&S47_E&S50_E&S51_E&S52_B&S53_E&S54_B&S55_E&S56_B&S57_E&S60_E&S61_B&S62_E&S63_B&S64_E&S65_B&S66_E&S67_B&S70_B&S71_E&S72_B&S73_E&S74_B&S75_E&S76_B&S77_E HTTP/1.1\u001b[0m\" 200 -\n"
     ]
    },
    {
     "name": "stdout",
     "output_type": "stream",
     "text": [
      "in make_move\n"
     ]
    },
    {
     "name": "stderr",
     "output_type": "stream",
     "text": [
      "127.0.0.1 - - [29/Aug/2020 21:37:24] \"\u001b[37mGET /move/W&S00_E&S01_W&S02_E&S03_W&S04_E&S05_W&S06_E&S07_W&S10_W&S11_E&S12_W&S13_E&S14_W&S15_E&S16_W&S17_E&S20_E&S21_E&S22_E&S23_W&S24_E&S25_W&S26_E&S27_W&S30_B&S31_E&S32_W&S33_E&S34_E&S35_E&S36_E&S37_E&S40_E&S41_E&S42_E&S43_E&S44_E&S45_E&S46_E&S47_E&S50_E&S51_E&S52_B&S53_E&S54_B&S55_E&S56_B&S57_E&S60_E&S61_B&S62_E&S63_B&S64_E&S65_B&S66_E&S67_B&S70_B&S71_E&S72_B&S73_E&S74_B&S75_E&S76_B&S77_E HTTP/1.1\u001b[0m\" 200 -\n"
     ]
    },
    {
     "name": "stdout",
     "output_type": "stream",
     "text": [
      "in make_move\n"
     ]
    },
    {
     "name": "stderr",
     "output_type": "stream",
     "text": [
      "127.0.0.1 - - [29/Aug/2020 21:37:25] \"\u001b[37mGET /move/B&S00_E&S01_W&S02_E&S03_W&S04_E&S05_W&S06_E&S07_W&S10_E&S11_E&S12_W&S13_E&S14_W&S15_E&S16_W&S17_E&S20_E&S21_W&S22_E&S23_W&S24_E&S25_W&S26_E&S27_W&S30_B&S31_E&S32_W&S33_E&S34_E&S35_E&S36_E&S37_E&S40_E&S41_E&S42_E&S43_E&S44_E&S45_E&S46_E&S47_E&S50_E&S51_E&S52_B&S53_E&S54_B&S55_E&S56_B&S57_E&S60_E&S61_B&S62_E&S63_B&S64_E&S65_B&S66_E&S67_B&S70_B&S71_E&S72_B&S73_E&S74_B&S75_E&S76_B&S77_E HTTP/1.1\u001b[0m\" 200 -\n",
      "127.0.0.1 - - [29/Aug/2020 21:37:25] \"\u001b[37mGET /move/W&S00_E&S01_W&S02_E&S03_W&S04_E&S05_W&S06_E&S07_W&S10_E&S11_E&S12_W&S13_E&S14_W&S15_E&S16_W&S17_E&S20_E&S21_W&S22_E&S23_W&S24_E&S25_W&S26_E&S27_W&S30_B&S31_E&S32_W&S33_E&S34_E&S35_E&S36_E&S37_E&S40_E&S41_E&S42_E&S43_B&S44_E&S45_E&S46_E&S47_E&S50_E&S51_E&S52_E&S53_E&S54_B&S55_E&S56_B&S57_E&S60_E&S61_B&S62_E&S63_B&S64_E&S65_B&S66_E&S67_B&S70_B&S71_E&S72_B&S73_E&S74_B&S75_E&S76_B&S77_E HTTP/1.1\u001b[0m\" 200 -\n"
     ]
    },
    {
     "name": "stdout",
     "output_type": "stream",
     "text": [
      "in make_move\n",
      "in make_move\n"
     ]
    },
    {
     "name": "stderr",
     "output_type": "stream",
     "text": [
      "127.0.0.1 - - [29/Aug/2020 21:37:25] \"\u001b[37mGET /move/B&S00_E&S01_E&S02_E&S03_W&S04_E&S05_W&S06_E&S07_W&S10_W&S11_E&S12_W&S13_E&S14_W&S15_E&S16_W&S17_E&S20_E&S21_W&S22_E&S23_W&S24_E&S25_W&S26_E&S27_W&S30_B&S31_E&S32_W&S33_E&S34_E&S35_E&S36_E&S37_E&S40_E&S41_E&S42_E&S43_B&S44_E&S45_E&S46_E&S47_E&S50_E&S51_E&S52_E&S53_E&S54_B&S55_E&S56_B&S57_E&S60_E&S61_B&S62_E&S63_B&S64_E&S65_B&S66_E&S67_B&S70_B&S71_E&S72_B&S73_E&S74_B&S75_E&S76_B&S77_E HTTP/1.1\u001b[0m\" 200 -\n",
      "127.0.0.1 - - [29/Aug/2020 21:37:25] \"\u001b[37mGET /move/W&S00_E&S01_E&S02_E&S03_W&S04_E&S05_W&S06_E&S07_W&S10_W&S11_E&S12_W&S13_E&S14_W&S15_E&S16_W&S17_E&S20_E&S21_W&S22_E&S23_W&S24_E&S25_W&S26_E&S27_W&S30_B&S31_E&S32_W&S33_E&S34_E&S35_E&S36_E&S37_E&S40_E&S41_E&S42_E&S43_B&S44_E&S45_B&S46_E&S47_E&S50_E&S51_E&S52_E&S53_E&S54_E&S55_E&S56_B&S57_E&S60_E&S61_B&S62_E&S63_B&S64_E&S65_B&S66_E&S67_B&S70_B&S71_E&S72_B&S73_E&S74_B&S75_E&S76_B&S77_E HTTP/1.1\u001b[0m\" 200 -\n"
     ]
    },
    {
     "name": "stdout",
     "output_type": "stream",
     "text": [
      "in make_move\n",
      "in make_move\n"
     ]
    },
    {
     "name": "stderr",
     "output_type": "stream",
     "text": [
      "127.0.0.1 - - [29/Aug/2020 21:37:25] \"\u001b[37mGET /move/B&S00_E&S01_E&S02_E&S03_W&S04_E&S05_W&S06_E&S07_W&S10_W&S11_E&S12_W&S13_E&S14_W&S15_E&S16_W&S17_E&S20_E&S21_W&S22_E&S23_W&S24_E&S25_W&S26_E&S27_W&S30_B&S31_E&S32_E&S33_E&S34_E&S35_E&S36_E&S37_E&S40_E&S41_E&S42_E&S43_E&S44_E&S45_B&S46_E&S47_E&S50_E&S51_E&S52_E&S53_E&S54_W&S55_E&S56_B&S57_E&S60_E&S61_B&S62_E&S63_B&S64_E&S65_B&S66_E&S67_B&S70_B&S71_E&S72_B&S73_E&S74_B&S75_E&S76_B&S77_E HTTP/1.1\u001b[0m\" 200 -\n",
      "127.0.0.1 - - [29/Aug/2020 21:37:26] \"\u001b[37mGET /move/W&S00_E&S01_E&S02_E&S03_W&S04_E&S05_W&S06_E&S07_W&S10_W&S11_E&S12_W&S13_E&S14_W&S15_E&S16_W&S17_E&S20_E&S21_W&S22_E&S23_W&S24_E&S25_W&S26_E&S27_W&S30_B&S31_E&S32_E&S33_E&S34_E&S35_E&S36_E&S37_E&S40_E&S41_E&S42_E&S43_B&S44_E&S45_B&S46_E&S47_E&S50_E&S51_E&S52_E&S53_E&S54_E&S55_E&S56_B&S57_E&S60_E&S61_B&S62_E&S63_B&S64_E&S65_E&S66_E&S67_B&S70_B&S71_E&S72_B&S73_E&S74_B&S75_E&S76_B&S77_E HTTP/1.1\u001b[0m\" 200 -\n"
     ]
    },
    {
     "name": "stdout",
     "output_type": "stream",
     "text": [
      "in make_move\n",
      "in make_move\n"
     ]
    },
    {
     "name": "stderr",
     "output_type": "stream",
     "text": [
      "127.0.0.1 - - [29/Aug/2020 21:37:26] \"\u001b[37mGET /move/B&S00_E&S01_E&S02_E&S03_W&S04_E&S05_W&S06_E&S07_W&S10_W&S11_E&S12_W&S13_E&S14_W&S15_E&S16_W&S17_E&S20_E&S21_E&S22_E&S23_W&S24_E&S25_W&S26_E&S27_W&S30_B&S31_E&S32_W&S33_E&S34_E&S35_E&S36_E&S37_E&S40_E&S41_E&S42_E&S43_B&S44_E&S45_B&S46_E&S47_E&S50_E&S51_E&S52_E&S53_E&S54_E&S55_E&S56_B&S57_E&S60_E&S61_B&S62_E&S63_B&S64_E&S65_E&S66_E&S67_B&S70_B&S71_E&S72_B&S73_E&S74_B&S75_E&S76_B&S77_E HTTP/1.1\u001b[0m\" 200 -\n",
      "127.0.0.1 - - [29/Aug/2020 21:37:26] \"\u001b[37mGET /move/W&S00_E&S01_E&S02_E&S03_W&S04_E&S05_W&S06_E&S07_W&S10_W&S11_E&S12_W&S13_E&S14_W&S15_E&S16_W&S17_E&S20_E&S21_B&S22_E&S23_W&S24_E&S25_W&S26_E&S27_W&S30_B&S31_E&S32_E&S33_E&S34_E&S35_E&S36_E&S37_E&S40_E&S41_E&S42_E&S43_E&S44_E&S45_B&S46_E&S47_E&S50_E&S51_E&S52_E&S53_E&S54_E&S55_E&S56_B&S57_E&S60_E&S61_B&S62_E&S63_B&S64_E&S65_E&S66_E&S67_B&S70_B&S71_E&S72_B&S73_E&S74_B&S75_E&S76_B&S77_E HTTP/1.1\u001b[0m\" 200 -\n"
     ]
    },
    {
     "name": "stdout",
     "output_type": "stream",
     "text": [
      "in make_move\n",
      "in make_move\n"
     ]
    },
    {
     "name": "stderr",
     "output_type": "stream",
     "text": [
      "127.0.0.1 - - [29/Aug/2020 21:37:26] \"\u001b[37mGET /move/B&S00_E&S01_E&S02_E&S03_W&S04_E&S05_W&S06_E&S07_W&S10_E&S11_E&S12_W&S13_E&S14_W&S15_E&S16_W&S17_E&S20_E&S21_E&S22_E&S23_W&S24_E&S25_W&S26_E&S27_W&S30_B&S31_E&S32_W&S33_E&S34_E&S35_E&S36_E&S37_E&S40_E&S41_E&S42_E&S43_E&S44_E&S45_B&S46_E&S47_E&S50_E&S51_E&S52_E&S53_E&S54_E&S55_E&S56_B&S57_E&S60_E&S61_B&S62_E&S63_B&S64_E&S65_E&S66_E&S67_B&S70_B&S71_E&S72_B&S73_E&S74_B&S75_E&S76_B&S77_E HTTP/1.1\u001b[0m\" 200 -\n",
      "127.0.0.1 - - [29/Aug/2020 21:37:26] \"\u001b[37mGET /move/W&S00_E&S01_E&S02_E&S03_W&S04_E&S05_W&S06_E&S07_W&S10_E&S11_E&S12_W&S13_E&S14_W&S15_E&S16_W&S17_E&S20_E&S21_E&S22_E&S23_W&S24_E&S25_W&S26_E&S27_W&S30_B&S31_E&S32_W&S33_E&S34_E&S35_E&S36_E&S37_E&S40_E&S41_E&S42_E&S43_E&S44_E&S45_B&S46_E&S47_B&S50_E&S51_E&S52_E&S53_E&S54_E&S55_E&S56_E&S57_E&S60_E&S61_B&S62_E&S63_B&S64_E&S65_E&S66_E&S67_B&S70_B&S71_E&S72_B&S73_E&S74_B&S75_E&S76_B&S77_E HTTP/1.1\u001b[0m\" 200 -\n"
     ]
    },
    {
     "name": "stdout",
     "output_type": "stream",
     "text": [
      "in make_move\n",
      "in make_move\n"
     ]
    },
    {
     "name": "stderr",
     "output_type": "stream",
     "text": [
      "127.0.0.1 - - [29/Aug/2020 21:37:27] \"\u001b[37mGET /move/B&S00_E&S01_E&S02_E&S03_W&S04_E&S05_W&S06_E&S07_W&S10_E&S11_E&S12_E&S13_E&S14_W&S15_E&S16_W&S17_E&S20_E&S21_W&S22_E&S23_W&S24_E&S25_W&S26_E&S27_W&S30_B&S31_E&S32_W&S33_E&S34_E&S35_E&S36_E&S37_E&S40_E&S41_E&S42_E&S43_E&S44_E&S45_B&S46_E&S47_B&S50_E&S51_E&S52_E&S53_E&S54_E&S55_E&S56_E&S57_E&S60_E&S61_B&S62_E&S63_B&S64_E&S65_E&S66_E&S67_B&S70_B&S71_E&S72_B&S73_E&S74_B&S75_E&S76_B&S77_E HTTP/1.1\u001b[0m\" 200 -\n",
      "127.0.0.1 - - [29/Aug/2020 21:37:27] \"\u001b[37mGET /move/W&S00_E&S01_E&S02_E&S03_W&S04_E&S05_W&S06_E&S07_W&S10_E&S11_E&S12_B&S13_E&S14_W&S15_E&S16_W&S17_E&S20_E&S21_E&S22_E&S23_W&S24_E&S25_W&S26_E&S27_W&S30_E&S31_E&S32_W&S33_E&S34_E&S35_E&S36_E&S37_E&S40_E&S41_E&S42_E&S43_E&S44_E&S45_B&S46_E&S47_B&S50_E&S51_E&S52_E&S53_E&S54_E&S55_E&S56_E&S57_E&S60_E&S61_B&S62_E&S63_B&S64_E&S65_E&S66_E&S67_B&S70_B&S71_E&S72_B&S73_E&S74_B&S75_E&S76_B&S77_E HTTP/1.1\u001b[0m\" 200 -\n"
     ]
    },
    {
     "name": "stdout",
     "output_type": "stream",
     "text": [
      "in make_move\n",
      "in make_move\n"
     ]
    },
    {
     "name": "stderr",
     "output_type": "stream",
     "text": [
      "127.0.0.1 - - [29/Aug/2020 21:37:27] \"\u001b[37mGET /move/B&S00_E&S01_E&S02_E&S03_E&S04_E&S05_W&S06_E&S07_W&S10_E&S11_E&S12_E&S13_E&S14_W&S15_E&S16_W&S17_E&S20_E&S21_W&S22_E&S23_W&S24_E&S25_W&S26_E&S27_W&S30_E&S31_E&S32_W&S33_E&S34_E&S35_E&S36_E&S37_E&S40_E&S41_E&S42_E&S43_E&S44_E&S45_B&S46_E&S47_B&S50_E&S51_E&S52_E&S53_E&S54_E&S55_E&S56_E&S57_E&S60_E&S61_B&S62_E&S63_B&S64_E&S65_E&S66_E&S67_B&S70_B&S71_E&S72_B&S73_E&S74_B&S75_E&S76_B&S77_E HTTP/1.1\u001b[0m\" 200 -\n"
     ]
    },
    {
     "name": "stdout",
     "output_type": "stream",
     "text": [
      "in make_move\n"
     ]
    },
    {
     "name": "stderr",
     "output_type": "stream",
     "text": [
      "127.0.0.1 - - [29/Aug/2020 21:37:27] \"\u001b[37mGET /move/W&S00_E&S01_E&S02_E&S03_E&S04_E&S05_W&S06_E&S07_W&S10_E&S11_E&S12_E&S13_E&S14_W&S15_E&S16_W&S17_E&S20_E&S21_W&S22_E&S23_W&S24_E&S25_W&S26_E&S27_W&S30_E&S31_E&S32_W&S33_E&S34_E&S35_E&S36_E&S37_E&S40_E&S41_E&S42_E&S43_E&S44_E&S45_B&S46_E&S47_B&S50_B&S51_E&S52_E&S53_E&S54_E&S55_E&S56_E&S57_E&S60_E&S61_E&S62_E&S63_B&S64_E&S65_E&S66_E&S67_B&S70_B&S71_E&S72_B&S73_E&S74_B&S75_E&S76_B&S77_E HTTP/1.1\u001b[0m\" 200 -\n",
      "127.0.0.1 - - [29/Aug/2020 21:37:28] \"\u001b[37mGET /move/B&S00_E&S01_E&S02_E&S03_E&S04_E&S05_W&S06_E&S07_W&S10_E&S11_E&S12_E&S13_E&S14_W&S15_E&S16_W&S17_E&S20_E&S21_E&S22_E&S23_W&S24_E&S25_W&S26_E&S27_W&S30_W&S31_E&S32_W&S33_E&S34_E&S35_E&S36_E&S37_E&S40_E&S41_E&S42_E&S43_E&S44_E&S45_B&S46_E&S47_B&S50_B&S51_E&S52_E&S53_E&S54_E&S55_E&S56_E&S57_E&S60_E&S61_E&S62_E&S63_B&S64_E&S65_E&S66_E&S67_B&S70_B&S71_E&S72_B&S73_E&S74_B&S75_E&S76_B&S77_E HTTP/1.1\u001b[0m\" 200 -\n"
     ]
    },
    {
     "name": "stdout",
     "output_type": "stream",
     "text": [
      "in make_move\n",
      "in make_move\n"
     ]
    },
    {
     "name": "stderr",
     "output_type": "stream",
     "text": [
      "127.0.0.1 - - [29/Aug/2020 21:37:28] \"\u001b[37mGET /move/W&S00_E&S01_E&S02_E&S03_E&S04_E&S05_W&S06_E&S07_W&S10_E&S11_E&S12_E&S13_E&S14_W&S15_E&S16_W&S17_E&S20_E&S21_E&S22_E&S23_W&S24_E&S25_W&S26_E&S27_W&S30_W&S31_E&S32_W&S33_E&S34_E&S35_E&S36_E&S37_E&S40_E&S41_E&S42_E&S43_E&S44_E&S45_B&S46_E&S47_B&S50_B&S51_E&S52_B&S53_E&S54_E&S55_E&S56_E&S57_E&S60_E&S61_E&S62_E&S63_E&S64_E&S65_E&S66_E&S67_B&S70_B&S71_E&S72_B&S73_E&S74_B&S75_E&S76_B&S77_E HTTP/1.1\u001b[0m\" 200 -\n"
     ]
    },
    {
     "name": "stdout",
     "output_type": "stream",
     "text": [
      "in make_move\n"
     ]
    },
    {
     "name": "stderr",
     "output_type": "stream",
     "text": [
      "127.0.0.1 - - [29/Aug/2020 21:37:28] \"\u001b[37mGET /move/B&S00_E&S01_E&S02_E&S03_E&S04_E&S05_W&S06_E&S07_W&S10_E&S11_E&S12_E&S13_E&S14_W&S15_E&S16_W&S17_E&S20_E&S21_E&S22_E&S23_W&S24_E&S25_E&S26_E&S27_W&S30_W&S31_E&S32_W&S33_E&S34_E&S35_E&S36_W&S37_E&S40_E&S41_E&S42_E&S43_E&S44_E&S45_B&S46_E&S47_B&S50_B&S51_E&S52_B&S53_E&S54_E&S55_E&S56_E&S57_E&S60_E&S61_E&S62_E&S63_E&S64_E&S65_E&S66_E&S67_B&S70_B&S71_E&S72_B&S73_E&S74_B&S75_E&S76_B&S77_E HTTP/1.1\u001b[0m\" 200 -\n"
     ]
    },
    {
     "name": "stdout",
     "output_type": "stream",
     "text": [
      "in make_move\n",
      "in make_move\n"
     ]
    },
    {
     "name": "stderr",
     "output_type": "stream",
     "text": [
      "127.0.0.1 - - [29/Aug/2020 21:37:28] \"\u001b[37mGET /move/W&S00_E&S01_E&S02_E&S03_E&S04_E&S05_W&S06_E&S07_W&S10_E&S11_E&S12_E&S13_E&S14_W&S15_E&S16_W&S17_E&S20_E&S21_E&S22_E&S23_W&S24_E&S25_B&S26_E&S27_W&S30_W&S31_E&S32_W&S33_E&S34_E&S35_E&S36_E&S37_E&S40_E&S41_E&S42_E&S43_E&S44_E&S45_B&S46_E&S47_E&S50_B&S51_E&S52_B&S53_E&S54_E&S55_E&S56_E&S57_E&S60_E&S61_E&S62_E&S63_E&S64_E&S65_E&S66_E&S67_B&S70_B&S71_E&S72_B&S73_E&S74_B&S75_E&S76_B&S77_E HTTP/1.1\u001b[0m\" 200 -\n",
      "127.0.0.1 - - [29/Aug/2020 21:37:29] \"\u001b[37mGET /move/B&S00_E&S01_E&S02_E&S03_E&S04_E&S05_W&S06_E&S07_W&S10_E&S11_E&S12_E&S13_E&S14_E&S15_E&S16_W&S17_E&S20_E&S21_E&S22_E&S23_W&S24_E&S25_E&S26_E&S27_W&S30_W&S31_E&S32_W&S33_E&S34_E&S35_E&S36_W&S37_E&S40_E&S41_E&S42_E&S43_E&S44_E&S45_B&S46_E&S47_E&S50_B&S51_E&S52_B&S53_E&S54_E&S55_E&S56_E&S57_E&S60_E&S61_E&S62_E&S63_E&S64_E&S65_E&S66_E&S67_B&S70_B&S71_E&S72_B&S73_E&S74_B&S75_E&S76_B&S77_E HTTP/1.1\u001b[0m\" 200 -\n",
      "127.0.0.1 - - [29/Aug/2020 21:37:29] \"\u001b[37mGET /move/W&S00_E&S01_E&S02_E&S03_E&S04_E&S05_W&S06_E&S07_W&S10_E&S11_E&S12_E&S13_E&S14_E&S15_E&S16_W&S17_E&S20_E&S21_E&S22_E&S23_W&S24_E&S25_E&S26_E&S27_W&S30_W&S31_E&S32_W&S33_E&S34_E&S35_E&S36_W&S37_E&S40_E&S41_E&S42_E&S43_E&S44_E&S45_B&S46_E&S47_E&S50_B&S51_E&S52_B&S53_E&S54_E&S55_E&S56_E&S57_E&S60_E&S61_E&S62_E&S63_B&S64_E&S65_E&S66_E&S67_B&S70_B&S71_E&S72_E&S73_E&S74_B&S75_E&S76_B&S77_E HTTP/1.1\u001b[0m\" 200 -\n"
     ]
    },
    {
     "name": "stdout",
     "output_type": "stream",
     "text": [
      "in make_move\n",
      "in make_move\n"
     ]
    },
    {
     "name": "stderr",
     "output_type": "stream",
     "text": [
      "127.0.0.1 - - [29/Aug/2020 21:37:29] \"\u001b[37mGET /move/B&S00_E&S01_E&S02_E&S03_E&S04_E&S05_W&S06_E&S07_W&S10_E&S11_E&S12_E&S13_E&S14_E&S15_E&S16_W&S17_E&S20_E&S21_E&S22_E&S23_W&S24_E&S25_E&S26_E&S27_W&S30_W&S31_E&S32_W&S33_E&S34_E&S35_E&S36_E&S37_E&S40_E&S41_E&S42_E&S43_E&S44_E&S45_E&S46_E&S47_E&S50_B&S51_E&S52_B&S53_E&S54_W&S55_E&S56_E&S57_E&S60_E&S61_E&S62_E&S63_B&S64_E&S65_E&S66_E&S67_B&S70_B&S71_E&S72_E&S73_E&S74_B&S75_E&S76_B&S77_E HTTP/1.1\u001b[0m\" 200 -\n"
     ]
    },
    {
     "name": "stdout",
     "output_type": "stream",
     "text": [
      "in make_move\n"
     ]
    },
    {
     "name": "stderr",
     "output_type": "stream",
     "text": [
      "127.0.0.1 - - [29/Aug/2020 21:37:29] \"\u001b[37mGET /move/W&S00_E&S01_E&S02_E&S03_E&S04_E&S05_W&S06_E&S07_W&S10_E&S11_E&S12_E&S13_E&S14_E&S15_E&S16_W&S17_E&S20_E&S21_E&S22_E&S23_W&S24_E&S25_E&S26_E&S27_W&S30_W&S31_E&S32_W&S33_E&S34_E&S35_E&S36_E&S37_E&S40_E&S41_E&S42_E&S43_E&S44_E&S45_B&S46_E&S47_E&S50_B&S51_E&S52_B&S53_E&S54_E&S55_E&S56_E&S57_E&S60_E&S61_E&S62_E&S63_E&S64_E&S65_E&S66_E&S67_B&S70_B&S71_E&S72_E&S73_E&S74_B&S75_E&S76_B&S77_E HTTP/1.1\u001b[0m\" 200 -\n"
     ]
    },
    {
     "name": "stdout",
     "output_type": "stream",
     "text": [
      "in make_move\n",
      "in make_move\n"
     ]
    },
    {
     "name": "stderr",
     "output_type": "stream",
     "text": [
      "127.0.0.1 - - [29/Aug/2020 21:37:30] \"\u001b[37mGET /move/B&S00_E&S01_E&S02_E&S03_E&S04_E&S05_E&S06_E&S07_W&S10_E&S11_E&S12_E&S13_E&S14_W&S15_E&S16_W&S17_E&S20_E&S21_E&S22_E&S23_W&S24_E&S25_E&S26_E&S27_W&S30_W&S31_E&S32_W&S33_E&S34_E&S35_E&S36_E&S37_E&S40_E&S41_E&S42_E&S43_E&S44_E&S45_B&S46_E&S47_E&S50_B&S51_E&S52_B&S53_E&S54_E&S55_E&S56_E&S57_E&S60_E&S61_E&S62_E&S63_E&S64_E&S65_E&S66_E&S67_B&S70_B&S71_E&S72_E&S73_E&S74_B&S75_E&S76_B&S77_E HTTP/1.1\u001b[0m\" 200 -\n",
      "127.0.0.1 - - [29/Aug/2020 21:37:30] \"\u001b[37mGET /move/W&S00_E&S01_E&S02_E&S03_E&S04_E&S05_E&S06_E&S07_W&S10_E&S11_E&S12_E&S13_E&S14_W&S15_E&S16_W&S17_E&S20_E&S21_E&S22_E&S23_W&S24_E&S25_E&S26_E&S27_W&S30_W&S31_E&S32_W&S33_E&S34_E&S35_E&S36_E&S37_E&S40_E&S41_E&S42_E&S43_E&S44_E&S45_B&S46_E&S47_E&S50_B&S51_E&S52_B&S53_E&S54_E&S55_E&S56_B&S57_E&S60_E&S61_E&S62_E&S63_E&S64_E&S65_E&S66_E&S67_E&S70_B&S71_E&S72_E&S73_E&S74_B&S75_E&S76_B&S77_E HTTP/1.1\u001b[0m\" 200 -\n"
     ]
    },
    {
     "name": "stdout",
     "output_type": "stream",
     "text": [
      "in make_move\n"
     ]
    },
    {
     "name": "stderr",
     "output_type": "stream",
     "text": [
      "127.0.0.1 - - [29/Aug/2020 21:37:30] \"\u001b[37mGET /move/B&S00_E&S01_E&S02_E&S03_E&S04_E&S05_E&S06_E&S07_W&S10_E&S11_E&S12_E&S13_E&S14_E&S15_E&S16_W&S17_E&S20_E&S21_E&S22_E&S23_W&S24_E&S25_W&S26_E&S27_W&S30_W&S31_E&S32_W&S33_E&S34_E&S35_E&S36_E&S37_E&S40_E&S41_E&S42_E&S43_E&S44_E&S45_B&S46_E&S47_E&S50_B&S51_E&S52_B&S53_E&S54_E&S55_E&S56_B&S57_E&S60_E&S61_E&S62_E&S63_E&S64_E&S65_E&S66_E&S67_E&S70_B&S71_E&S72_E&S73_E&S74_B&S75_E&S76_B&S77_E HTTP/1.1\u001b[0m\" 200 -\n"
     ]
    },
    {
     "name": "stdout",
     "output_type": "stream",
     "text": [
      "in make_move\n"
     ]
    },
    {
     "name": "stderr",
     "output_type": "stream",
     "text": [
      "127.0.0.1 - - [29/Aug/2020 21:37:30] \"\u001b[37mGET /move/W&S00_E&S01_E&S02_E&S03_E&S04_E&S05_E&S06_E&S07_W&S10_E&S11_E&S12_E&S13_E&S14_E&S15_E&S16_W&S17_E&S20_E&S21_E&S22_E&S23_W&S24_E&S25_W&S26_E&S27_W&S30_W&S31_E&S32_W&S33_E&S34_B&S35_E&S36_E&S37_E&S40_E&S41_E&S42_E&S43_E&S44_E&S45_E&S46_E&S47_E&S50_B&S51_E&S52_B&S53_E&S54_E&S55_E&S56_B&S57_E&S60_E&S61_E&S62_E&S63_E&S64_E&S65_E&S66_E&S67_E&S70_B&S71_E&S72_E&S73_E&S74_B&S75_E&S76_B&S77_E HTTP/1.1\u001b[0m\" 200 -\n"
     ]
    },
    {
     "name": "stdout",
     "output_type": "stream",
     "text": [
      "in make_move\n"
     ]
    },
    {
     "name": "stderr",
     "output_type": "stream",
     "text": [
      "127.0.0.1 - - [29/Aug/2020 21:37:31] \"\u001b[37mGET /move/B&S00_E&S01_E&S02_E&S03_E&S04_E&S05_E&S06_E&S07_W&S10_E&S11_E&S12_E&S13_E&S14_E&S15_E&S16_W&S17_E&S20_E&S21_E&S22_E&S23_E&S24_E&S25_W&S26_E&S27_W&S30_W&S31_E&S32_W&S33_E&S34_E&S35_E&S36_E&S37_E&S40_E&S41_E&S42_E&S43_E&S44_E&S45_W&S46_E&S47_E&S50_B&S51_E&S52_B&S53_E&S54_E&S55_E&S56_B&S57_E&S60_E&S61_E&S62_E&S63_E&S64_E&S65_E&S66_E&S67_E&S70_B&S71_E&S72_E&S73_E&S74_B&S75_E&S76_B&S77_E HTTP/1.1\u001b[0m\" 200 -\n"
     ]
    },
    {
     "name": "stdout",
     "output_type": "stream",
     "text": [
      "in make_move\n"
     ]
    },
    {
     "name": "stderr",
     "output_type": "stream",
     "text": [
      "127.0.0.1 - - [29/Aug/2020 21:37:31] \"\u001b[37mGET /move/W&S00_E&S01_E&S02_E&S03_E&S04_E&S05_E&S06_E&S07_W&S10_E&S11_E&S12_E&S13_E&S14_E&S15_E&S16_W&S17_E&S20_E&S21_E&S22_E&S23_E&S24_E&S25_W&S26_E&S27_W&S30_W&S31_E&S32_W&S33_E&S34_B&S35_E&S36_E&S37_E&S40_E&S41_E&S42_E&S43_E&S44_E&S45_E&S46_E&S47_E&S50_B&S51_E&S52_B&S53_E&S54_E&S55_E&S56_E&S57_E&S60_E&S61_E&S62_E&S63_E&S64_E&S65_E&S66_E&S67_E&S70_B&S71_E&S72_E&S73_E&S74_B&S75_E&S76_B&S77_E HTTP/1.1\u001b[0m\" 200 -\n"
     ]
    },
    {
     "name": "stdout",
     "output_type": "stream",
     "text": [
      "in make_move\n"
     ]
    },
    {
     "name": "stderr",
     "output_type": "stream",
     "text": [
      "127.0.0.1 - - [29/Aug/2020 21:37:31] \"\u001b[37mGET /move/B&S00_E&S01_E&S02_E&S03_E&S04_E&S05_E&S06_E&S07_W&S10_E&S11_E&S12_E&S13_E&S14_E&S15_E&S16_W&S17_E&S20_E&S21_E&S22_E&S23_E&S24_E&S25_E&S26_E&S27_W&S30_W&S31_E&S32_W&S33_E&S34_E&S35_E&S36_E&S37_E&S40_E&S41_E&S42_E&S43_W&S44_E&S45_E&S46_E&S47_E&S50_B&S51_E&S52_B&S53_E&S54_E&S55_E&S56_E&S57_E&S60_E&S61_E&S62_E&S63_E&S64_E&S65_E&S66_E&S67_E&S70_B&S71_E&S72_E&S73_E&S74_B&S75_E&S76_B&S77_E HTTP/1.1\u001b[0m\" 200 -\n"
     ]
    },
    {
     "name": "stdout",
     "output_type": "stream",
     "text": [
      "in make_move\n"
     ]
    },
    {
     "name": "stderr",
     "output_type": "stream",
     "text": [
      "127.0.0.1 - - [29/Aug/2020 21:37:31] \"\u001b[37mGET /move/W&S00_E&S01_E&S02_E&S03_E&S04_E&S05_E&S06_E&S07_W&S10_E&S11_E&S12_E&S13_E&S14_E&S15_E&S16_W&S17_E&S20_E&S21_E&S22_E&S23_E&S24_E&S25_E&S26_E&S27_W&S30_W&S31_E&S32_W&S33_E&S34_B&S35_E&S36_E&S37_E&S40_E&S41_E&S42_E&S43_E&S44_E&S45_E&S46_E&S47_E&S50_B&S51_E&S52_E&S53_E&S54_E&S55_E&S56_E&S57_E&S60_E&S61_E&S62_E&S63_E&S64_E&S65_E&S66_E&S67_E&S70_B&S71_E&S72_E&S73_E&S74_B&S75_E&S76_B&S77_E HTTP/1.1\u001b[0m\" 200 -\n"
     ]
    },
    {
     "name": "stdout",
     "output_type": "stream",
     "text": [
      "in make_move\n"
     ]
    },
    {
     "name": "stderr",
     "output_type": "stream",
     "text": [
      "127.0.0.1 - - [29/Aug/2020 21:37:31] \"\u001b[37mGET /move/B&S00_E&S01_E&S02_E&S03_E&S04_E&S05_E&S06_E&S07_W&S10_E&S11_E&S12_E&S13_E&S14_E&S15_E&S16_E&S17_E&S20_E&S21_E&S22_E&S23_E&S24_E&S25_W&S26_E&S27_W&S30_W&S31_E&S32_W&S33_E&S34_B&S35_E&S36_E&S37_E&S40_E&S41_E&S42_E&S43_E&S44_E&S45_E&S46_E&S47_E&S50_B&S51_E&S52_E&S53_E&S54_E&S55_E&S56_E&S57_E&S60_E&S61_E&S62_E&S63_E&S64_E&S65_E&S66_E&S67_E&S70_B&S71_E&S72_E&S73_E&S74_B&S75_E&S76_B&S77_E HTTP/1.1\u001b[0m\" 200 -\n"
     ]
    },
    {
     "name": "stdout",
     "output_type": "stream",
     "text": [
      "in make_move\n"
     ]
    },
    {
     "name": "stderr",
     "output_type": "stream",
     "text": [
      "127.0.0.1 - - [29/Aug/2020 21:37:32] \"\u001b[37mGET /move/W&S00_E&S01_E&S02_E&S03_E&S04_E&S05_E&S06_E&S07_W&S10_E&S11_E&S12_E&S13_E&S14_E&S15_E&S16_B&S17_E&S20_E&S21_E&S22_E&S23_E&S24_E&S25_E&S26_E&S27_W&S30_W&S31_E&S32_W&S33_E&S34_E&S35_E&S36_E&S37_E&S40_E&S41_E&S42_E&S43_E&S44_E&S45_E&S46_E&S47_E&S50_B&S51_E&S52_E&S53_E&S54_E&S55_E&S56_E&S57_E&S60_E&S61_E&S62_E&S63_E&S64_E&S65_E&S66_E&S67_E&S70_B&S71_E&S72_E&S73_E&S74_B&S75_E&S76_B&S77_E HTTP/1.1\u001b[0m\" 200 -\n"
     ]
    },
    {
     "name": "stdout",
     "output_type": "stream",
     "text": [
      "in make_move\n"
     ]
    },
    {
     "name": "stderr",
     "output_type": "stream",
     "text": [
      "127.0.0.1 - - [29/Aug/2020 21:37:32] \"\u001b[37mGET /move/B&S00_E&S01_E&S02_E&S03_E&S04_E&S05_E&S06_E&S07_E&S10_E&S11_E&S12_E&S13_E&S14_E&S15_E&S16_E&S17_E&S20_E&S21_E&S22_E&S23_E&S24_E&S25_W&S26_E&S27_W&S30_W&S31_E&S32_W&S33_E&S34_E&S35_E&S36_E&S37_E&S40_E&S41_E&S42_E&S43_E&S44_E&S45_E&S46_E&S47_E&S50_B&S51_E&S52_E&S53_E&S54_E&S55_E&S56_E&S57_E&S60_E&S61_E&S62_E&S63_E&S64_E&S65_E&S66_E&S67_E&S70_B&S71_E&S72_E&S73_E&S74_B&S75_E&S76_B&S77_E HTTP/1.1\u001b[0m\" 200 -\n"
     ]
    },
    {
     "name": "stdout",
     "output_type": "stream",
     "text": [
      "in make_move\n"
     ]
    },
    {
     "name": "stderr",
     "output_type": "stream",
     "text": [
      "127.0.0.1 - - [29/Aug/2020 21:37:32] \"\u001b[37mGET /move/W&S00_E&S01_E&S02_E&S03_E&S04_E&S05_E&S06_E&S07_E&S10_E&S11_E&S12_E&S13_E&S14_E&S15_E&S16_E&S17_E&S20_E&S21_E&S22_E&S23_E&S24_E&S25_W&S26_E&S27_W&S30_W&S31_E&S32_W&S33_E&S34_E&S35_E&S36_E&S37_E&S40_E&S41_E&S42_E&S43_E&S44_E&S45_E&S46_E&S47_E&S50_B&S51_E&S52_E&S53_E&S54_E&S55_E&S56_E&S57_E&S60_E&S61_B&S62_E&S63_E&S64_E&S65_E&S66_E&S67_E&S70_E&S71_E&S72_E&S73_E&S74_B&S75_E&S76_B&S77_E HTTP/1.1\u001b[0m\" 200 -\n"
     ]
    },
    {
     "name": "stdout",
     "output_type": "stream",
     "text": [
      "in make_move\n"
     ]
    },
    {
     "name": "stderr",
     "output_type": "stream",
     "text": [
      "127.0.0.1 - - [29/Aug/2020 21:37:33] \"\u001b[37mGET /move/B&S00_E&S01_E&S02_E&S03_E&S04_E&S05_E&S06_E&S07_E&S10_E&S11_E&S12_E&S13_E&S14_E&S15_E&S16_E&S17_E&S20_E&S21_E&S22_E&S23_E&S24_E&S25_E&S26_E&S27_W&S30_W&S31_E&S32_W&S33_E&S34_E&S35_E&S36_W&S37_E&S40_E&S41_E&S42_E&S43_E&S44_E&S45_E&S46_E&S47_E&S50_B&S51_E&S52_E&S53_E&S54_E&S55_E&S56_E&S57_E&S60_E&S61_B&S62_E&S63_E&S64_E&S65_E&S66_E&S67_E&S70_E&S71_E&S72_E&S73_E&S74_B&S75_E&S76_B&S77_E HTTP/1.1\u001b[0m\" 200 -\n"
     ]
    },
    {
     "name": "stdout",
     "output_type": "stream",
     "text": [
      "in make_move\n"
     ]
    },
    {
     "name": "stderr",
     "output_type": "stream",
     "text": [
      "127.0.0.1 - - [29/Aug/2020 21:37:33] \"\u001b[37mGET /move/W&S00_E&S01_E&S02_E&S03_E&S04_E&S05_E&S06_E&S07_E&S10_E&S11_E&S12_E&S13_E&S14_E&S15_E&S16_E&S17_E&S20_E&S21_E&S22_E&S23_E&S24_E&S25_E&S26_E&S27_W&S30_W&S31_E&S32_W&S33_E&S34_E&S35_E&S36_W&S37_E&S40_E&S41_E&S42_E&S43_E&S44_E&S45_E&S46_E&S47_E&S50_B&S51_E&S52_B&S53_E&S54_E&S55_E&S56_E&S57_E&S60_E&S61_E&S62_E&S63_E&S64_E&S65_E&S66_E&S67_E&S70_E&S71_E&S72_E&S73_E&S74_B&S75_E&S76_B&S77_E HTTP/1.1\u001b[0m\" 200 -\n"
     ]
    },
    {
     "name": "stdout",
     "output_type": "stream",
     "text": [
      "in make_move\n"
     ]
    },
    {
     "name": "stderr",
     "output_type": "stream",
     "text": [
      "127.0.0.1 - - [29/Aug/2020 21:37:33] \"\u001b[37mGET /move/B&S00_E&S01_E&S02_E&S03_E&S04_E&S05_E&S06_E&S07_E&S10_E&S11_E&S12_E&S13_E&S14_E&S15_E&S16_E&S17_E&S20_E&S21_E&S22_E&S23_E&S24_E&S25_E&S26_E&S27_W&S30_W&S31_E&S32_W&S33_E&S34_E&S35_E&S36_E&S37_E&S40_E&S41_E&S42_E&S43_E&S44_E&S45_E&S46_E&S47_W&S50_B&S51_E&S52_B&S53_E&S54_E&S55_E&S56_E&S57_E&S60_E&S61_E&S62_E&S63_E&S64_E&S65_E&S66_E&S67_E&S70_E&S71_E&S72_E&S73_E&S74_B&S75_E&S76_B&S77_E HTTP/1.1\u001b[0m\" 200 -\n"
     ]
    },
    {
     "name": "stdout",
     "output_type": "stream",
     "text": [
      "in make_move\n"
     ]
    },
    {
     "name": "stderr",
     "output_type": "stream",
     "text": [
      "127.0.0.1 - - [29/Aug/2020 21:37:33] \"\u001b[37mGET /move/W&S00_E&S01_E&S02_E&S03_E&S04_E&S05_E&S06_E&S07_E&S10_E&S11_E&S12_E&S13_E&S14_E&S15_E&S16_E&S17_E&S20_E&S21_E&S22_E&S23_E&S24_E&S25_E&S26_E&S27_W&S30_W&S31_E&S32_W&S33_E&S34_E&S35_E&S36_E&S37_E&S40_E&S41_E&S42_E&S43_E&S44_E&S45_E&S46_E&S47_W&S50_B&S51_E&S52_B&S53_E&S54_E&S55_E&S56_E&S57_E&S60_E&S61_E&S62_E&S63_B&S64_E&S65_E&S66_E&S67_E&S70_E&S71_E&S72_E&S73_E&S74_E&S75_E&S76_B&S77_E HTTP/1.1\u001b[0m\" 200 -\n"
     ]
    },
    {
     "name": "stdout",
     "output_type": "stream",
     "text": [
      "in make_move\n"
     ]
    },
    {
     "name": "stderr",
     "output_type": "stream",
     "text": [
      "127.0.0.1 - - [29/Aug/2020 21:37:34] \"\u001b[37mGET /move/B&S00_E&S01_E&S02_E&S03_E&S04_E&S05_E&S06_E&S07_E&S10_E&S11_E&S12_E&S13_E&S14_E&S15_E&S16_E&S17_E&S20_E&S21_E&S22_E&S23_E&S24_E&S25_E&S26_E&S27_E&S30_W&S31_E&S32_W&S33_E&S34_E&S35_E&S36_W&S37_E&S40_E&S41_E&S42_E&S43_E&S44_E&S45_E&S46_E&S47_W&S50_B&S51_E&S52_B&S53_E&S54_E&S55_E&S56_E&S57_E&S60_E&S61_E&S62_E&S63_B&S64_E&S65_E&S66_E&S67_E&S70_E&S71_E&S72_E&S73_E&S74_E&S75_E&S76_B&S77_E HTTP/1.1\u001b[0m\" 200 -\n"
     ]
    },
    {
     "name": "stdout",
     "output_type": "stream",
     "text": [
      "in make_move\n"
     ]
    },
    {
     "name": "stderr",
     "output_type": "stream",
     "text": [
      "127.0.0.1 - - [29/Aug/2020 21:37:34] \"\u001b[37mGET /move/W&S00_E&S01_E&S02_E&S03_E&S04_E&S05_E&S06_E&S07_E&S10_E&S11_E&S12_E&S13_E&S14_E&S15_E&S16_E&S17_E&S20_E&S21_E&S22_E&S23_E&S24_E&S25_E&S26_E&S27_E&S30_W&S31_E&S32_W&S33_E&S34_E&S35_E&S36_W&S37_E&S40_E&S41_B&S42_E&S43_E&S44_E&S45_E&S46_E&S47_W&S50_B&S51_E&S52_E&S53_E&S54_E&S55_E&S56_E&S57_E&S60_E&S61_E&S62_E&S63_B&S64_E&S65_E&S66_E&S67_E&S70_E&S71_E&S72_E&S73_E&S74_E&S75_E&S76_B&S77_E HTTP/1.1\u001b[0m\" 200 -\n"
     ]
    },
    {
     "name": "stdout",
     "output_type": "stream",
     "text": [
      "in make_move\n"
     ]
    },
    {
     "name": "stderr",
     "output_type": "stream",
     "text": [
      "127.0.0.1 - - [29/Aug/2020 21:37:34] \"\u001b[37mGET /move/B&S00_E&S01_E&S02_E&S03_E&S04_E&S05_E&S06_E&S07_E&S10_E&S11_E&S12_E&S13_E&S14_E&S15_E&S16_E&S17_E&S20_E&S21_E&S22_E&S23_E&S24_E&S25_E&S26_E&S27_E&S30_E&S31_E&S32_W&S33_E&S34_E&S35_E&S36_W&S37_E&S40_E&S41_E&S42_E&S43_E&S44_E&S45_E&S46_E&S47_W&S50_B&S51_E&S52_W&S53_E&S54_E&S55_E&S56_E&S57_E&S60_E&S61_E&S62_E&S63_B&S64_E&S65_E&S66_E&S67_E&S70_E&S71_E&S72_E&S73_E&S74_E&S75_E&S76_B&S77_E HTTP/1.1\u001b[0m\" 200 -\n"
     ]
    },
    {
     "name": "stdout",
     "output_type": "stream",
     "text": [
      "in make_move\n"
     ]
    },
    {
     "name": "stderr",
     "output_type": "stream",
     "text": [
      "127.0.0.1 - - [29/Aug/2020 21:37:34] \"\u001b[37mGET /move/W&S00_E&S01_E&S02_E&S03_E&S04_E&S05_E&S06_E&S07_E&S10_E&S11_E&S12_E&S13_E&S14_E&S15_E&S16_E&S17_E&S20_E&S21_E&S22_E&S23_E&S24_E&S25_E&S26_E&S27_E&S30_E&S31_E&S32_W&S33_E&S34_E&S35_E&S36_W&S37_E&S40_E&S41_B&S42_E&S43_E&S44_E&S45_E&S46_E&S47_W&S50_B&S51_E&S52_E&S53_E&S54_E&S55_E&S56_E&S57_E&S60_E&S61_E&S62_E&S63_E&S64_E&S65_E&S66_E&S67_E&S70_E&S71_E&S72_E&S73_E&S74_E&S75_E&S76_B&S77_E HTTP/1.1\u001b[0m\" 200 -\n"
     ]
    },
    {
     "name": "stdout",
     "output_type": "stream",
     "text": [
      "in make_move\n"
     ]
    },
    {
     "name": "stderr",
     "output_type": "stream",
     "text": [
      "127.0.0.1 - - [29/Aug/2020 21:37:35] \"\u001b[37mGET /move/B&S00_E&S01_E&S02_E&S03_E&S04_E&S05_E&S06_E&S07_E&S10_E&S11_E&S12_E&S13_E&S14_E&S15_E&S16_E&S17_E&S20_E&S21_E&S22_E&S23_E&S24_E&S25_E&S26_E&S27_E&S30_E&S31_E&S32_E&S33_E&S34_E&S35_E&S36_W&S37_E&S40_E&S41_B&S42_E&S43_W&S44_E&S45_E&S46_E&S47_W&S50_B&S51_E&S52_E&S53_E&S54_E&S55_E&S56_E&S57_E&S60_E&S61_E&S62_E&S63_E&S64_E&S65_E&S66_E&S67_E&S70_E&S71_E&S72_E&S73_E&S74_E&S75_E&S76_B&S77_E HTTP/1.1\u001b[0m\" 200 -\n"
     ]
    },
    {
     "name": "stdout",
     "output_type": "stream",
     "text": [
      "in make_move\n"
     ]
    },
    {
     "name": "stderr",
     "output_type": "stream",
     "text": [
      "127.0.0.1 - - [29/Aug/2020 21:37:35] \"\u001b[37mGET /move/W&S00_E&S01_E&S02_E&S03_E&S04_E&S05_E&S06_E&S07_E&S10_E&S11_E&S12_E&S13_E&S14_E&S15_E&S16_E&S17_E&S20_E&S21_E&S22_E&S23_E&S24_E&S25_E&S26_E&S27_E&S30_B&S31_E&S32_E&S33_E&S34_E&S35_E&S36_W&S37_E&S40_E&S41_E&S42_E&S43_W&S44_E&S45_E&S46_E&S47_W&S50_B&S51_E&S52_E&S53_E&S54_E&S55_E&S56_E&S57_E&S60_E&S61_E&S62_E&S63_E&S64_E&S65_E&S66_E&S67_E&S70_E&S71_E&S72_E&S73_E&S74_E&S75_E&S76_B&S77_E HTTP/1.1\u001b[0m\" 200 -\n"
     ]
    },
    {
     "name": "stdout",
     "output_type": "stream",
     "text": [
      "in make_move\n"
     ]
    },
    {
     "name": "stderr",
     "output_type": "stream",
     "text": [
      "127.0.0.1 - - [29/Aug/2020 21:37:35] \"\u001b[37mGET /move/B&S00_E&S01_E&S02_E&S03_E&S04_E&S05_E&S06_E&S07_E&S10_E&S11_E&S12_E&S13_E&S14_E&S15_E&S16_E&S17_E&S20_E&S21_E&S22_E&S23_E&S24_E&S25_E&S26_E&S27_E&S30_B&S31_E&S32_E&S33_E&S34_E&S35_E&S36_E&S37_E&S40_E&S41_E&S42_E&S43_W&S44_E&S45_W&S46_E&S47_W&S50_B&S51_E&S52_E&S53_E&S54_E&S55_E&S56_E&S57_E&S60_E&S61_E&S62_E&S63_E&S64_E&S65_E&S66_E&S67_E&S70_E&S71_E&S72_E&S73_E&S74_E&S75_E&S76_B&S77_E HTTP/1.1\u001b[0m\" 200 -\n"
     ]
    },
    {
     "name": "stdout",
     "output_type": "stream",
     "text": [
      "in make_move\n"
     ]
    },
    {
     "name": "stderr",
     "output_type": "stream",
     "text": [
      "127.0.0.1 - - [29/Aug/2020 21:37:35] \"\u001b[37mGET /move/W&S00_E&S01_E&S02_E&S03_E&S04_E&S05_E&S06_E&S07_E&S10_E&S11_E&S12_E&S13_E&S14_E&S15_E&S16_E&S17_E&S20_E&S21_B&S22_E&S23_E&S24_E&S25_E&S26_E&S27_E&S30_E&S31_E&S32_E&S33_E&S34_E&S35_E&S36_E&S37_E&S40_E&S41_E&S42_E&S43_W&S44_E&S45_W&S46_E&S47_W&S50_B&S51_E&S52_E&S53_E&S54_E&S55_E&S56_E&S57_E&S60_E&S61_E&S62_E&S63_E&S64_E&S65_E&S66_E&S67_E&S70_E&S71_E&S72_E&S73_E&S74_E&S75_E&S76_B&S77_E HTTP/1.1\u001b[0m\" 200 -\n"
     ]
    },
    {
     "name": "stdout",
     "output_type": "stream",
     "text": [
      "in make_move\n"
     ]
    },
    {
     "name": "stderr",
     "output_type": "stream",
     "text": [
      "127.0.0.1 - - [29/Aug/2020 21:37:36] \"\u001b[37mGET /move/B&S00_E&S01_E&S02_E&S03_E&S04_E&S05_E&S06_E&S07_E&S10_E&S11_E&S12_E&S13_E&S14_E&S15_E&S16_E&S17_E&S20_E&S21_B&S22_E&S23_E&S24_E&S25_E&S26_E&S27_E&S30_E&S31_E&S32_E&S33_E&S34_E&S35_E&S36_E&S37_E&S40_E&S41_E&S42_E&S43_E&S44_E&S45_W&S46_E&S47_W&S50_B&S51_E&S52_E&S53_E&S54_W&S55_E&S56_E&S57_E&S60_E&S61_E&S62_E&S63_E&S64_E&S65_E&S66_E&S67_E&S70_E&S71_E&S72_E&S73_E&S74_E&S75_E&S76_B&S77_E HTTP/1.1\u001b[0m\" 200 -\n"
     ]
    },
    {
     "name": "stdout",
     "output_type": "stream",
     "text": [
      "in make_move\n"
     ]
    },
    {
     "name": "stderr",
     "output_type": "stream",
     "text": [
      "127.0.0.1 - - [29/Aug/2020 21:37:36] \"\u001b[37mGET /move/W&S00_E&S01_E&S02_E&S03_E&S04_E&S05_E&S06_E&S07_E&S10_B&S11_E&S12_E&S13_E&S14_E&S15_E&S16_E&S17_E&S20_E&S21_E&S22_E&S23_E&S24_E&S25_E&S26_E&S27_E&S30_E&S31_E&S32_E&S33_E&S34_E&S35_E&S36_E&S37_E&S40_E&S41_E&S42_E&S43_E&S44_E&S45_W&S46_E&S47_W&S50_B&S51_E&S52_E&S53_E&S54_W&S55_E&S56_E&S57_E&S60_E&S61_E&S62_E&S63_E&S64_E&S65_E&S66_E&S67_E&S70_E&S71_E&S72_E&S73_E&S74_E&S75_E&S76_B&S77_E HTTP/1.1\u001b[0m\" 200 -\n"
     ]
    },
    {
     "name": "stdout",
     "output_type": "stream",
     "text": [
      "in make_move\n"
     ]
    },
    {
     "name": "stderr",
     "output_type": "stream",
     "text": [
      "127.0.0.1 - - [29/Aug/2020 21:37:36] \"\u001b[37mGET /move/B&S00_E&S01_E&S02_E&S03_E&S04_E&S05_E&S06_E&S07_E&S10_B&S11_E&S12_E&S13_E&S14_E&S15_E&S16_E&S17_E&S20_E&S21_E&S22_E&S23_E&S24_E&S25_E&S26_E&S27_E&S30_E&S31_E&S32_E&S33_E&S34_E&S35_E&S36_E&S37_E&S40_E&S41_E&S42_E&S43_E&S44_E&S45_W&S46_E&S47_W&S50_B&S51_E&S52_E&S53_E&S54_E&S55_E&S56_E&S57_E&S60_E&S61_E&S62_E&S63_E&S64_E&S65_W&S66_E&S67_E&S70_E&S71_E&S72_E&S73_E&S74_E&S75_E&S76_B&S77_E HTTP/1.1\u001b[0m\" 200 -\n"
     ]
    },
    {
     "name": "stdout",
     "output_type": "stream",
     "text": [
      "in make_move\n"
     ]
    },
    {
     "name": "stderr",
     "output_type": "stream",
     "text": [
      "127.0.0.1 - - [29/Aug/2020 21:37:36] \"\u001b[37mGET /move/W&S00_E&S01_E&S02_E&S03_E&S04_E&S05_E&S06_E&S07_E&S10_B&S11_E&S12_E&S13_E&S14_E&S15_E&S16_E&S17_E&S20_E&S21_E&S22_E&S23_E&S24_E&S25_E&S26_E&S27_E&S30_E&S31_E&S32_E&S33_E&S34_E&S35_E&S36_E&S37_E&S40_E&S41_E&S42_E&S43_E&S44_E&S45_W&S46_E&S47_W&S50_B&S51_E&S52_E&S53_E&S54_B&S55_E&S56_E&S57_E&S60_E&S61_E&S62_E&S63_E&S64_E&S65_E&S66_E&S67_E&S70_E&S71_E&S72_E&S73_E&S74_E&S75_E&S76_E&S77_E HTTP/1.1\u001b[0m\" 200 -\n"
     ]
    },
    {
     "name": "stdout",
     "output_type": "stream",
     "text": [
      "in make_move\n"
     ]
    },
    {
     "name": "stderr",
     "output_type": "stream",
     "text": [
      "127.0.0.1 - - [29/Aug/2020 21:37:37] \"\u001b[37mGET /move/B&S00_E&S01_E&S02_E&S03_E&S04_E&S05_E&S06_E&S07_E&S10_B&S11_E&S12_E&S13_E&S14_E&S15_E&S16_E&S17_E&S20_E&S21_E&S22_E&S23_E&S24_E&S25_E&S26_E&S27_E&S30_E&S31_E&S32_E&S33_E&S34_E&S35_E&S36_E&S37_E&S40_E&S41_E&S42_E&S43_E&S44_E&S45_E&S46_E&S47_W&S50_B&S51_E&S52_E&S53_E&S54_E&S55_E&S56_E&S57_E&S60_E&S61_E&S62_E&S63_W&S64_E&S65_E&S66_E&S67_E&S70_E&S71_E&S72_E&S73_E&S74_E&S75_E&S76_E&S77_E HTTP/1.1\u001b[0m\" 200 -\n"
     ]
    },
    {
     "name": "stdout",
     "output_type": "stream",
     "text": [
      "in make_move\n"
     ]
    },
    {
     "name": "stderr",
     "output_type": "stream",
     "text": [
      "127.0.0.1 - - [29/Aug/2020 21:37:37] \"\u001b[37mGET /move/W&S00_E&S01_BK&S02_E&S03_E&S04_E&S05_E&S06_E&S07_E&S10_E&S11_E&S12_E&S13_E&S14_E&S15_E&S16_E&S17_E&S20_E&S21_E&S22_E&S23_E&S24_E&S25_E&S26_E&S27_E&S30_E&S31_E&S32_E&S33_E&S34_E&S35_E&S36_E&S37_E&S40_E&S41_E&S42_E&S43_E&S44_E&S45_E&S46_E&S47_W&S50_B&S51_E&S52_E&S53_E&S54_E&S55_E&S56_E&S57_E&S60_E&S61_E&S62_E&S63_W&S64_E&S65_E&S66_E&S67_E&S70_E&S71_E&S72_E&S73_E&S74_E&S75_E&S76_E&S77_E HTTP/1.1\u001b[0m\" 200 -\n"
     ]
    },
    {
     "name": "stdout",
     "output_type": "stream",
     "text": [
      "in make_move\n"
     ]
    },
    {
     "name": "stderr",
     "output_type": "stream",
     "text": [
      "127.0.0.1 - - [29/Aug/2020 21:37:37] \"\u001b[37mGET /move/B&S00_E&S01_BK&S02_E&S03_E&S04_E&S05_E&S06_E&S07_E&S10_E&S11_E&S12_E&S13_E&S14_E&S15_E&S16_E&S17_E&S20_E&S21_E&S22_E&S23_E&S24_E&S25_E&S26_E&S27_E&S30_E&S31_E&S32_E&S33_E&S34_E&S35_E&S36_E&S37_E&S40_E&S41_E&S42_E&S43_E&S44_E&S45_E&S46_E&S47_E&S50_B&S51_E&S52_E&S53_E&S54_E&S55_E&S56_W&S57_E&S60_E&S61_E&S62_E&S63_W&S64_E&S65_E&S66_E&S67_E&S70_E&S71_E&S72_E&S73_E&S74_E&S75_E&S76_E&S77_E HTTP/1.1\u001b[0m\" 200 -\n"
     ]
    },
    {
     "name": "stdout",
     "output_type": "stream",
     "text": [
      "in make_move\n"
     ]
    },
    {
     "name": "stderr",
     "output_type": "stream",
     "text": [
      "127.0.0.1 - - [29/Aug/2020 21:37:37] \"\u001b[37mGET /move/W&S00_E&S01_E&S02_E&S03_E&S04_E&S05_E&S06_E&S07_E&S10_E&S11_E&S12_BK&S13_E&S14_E&S15_E&S16_E&S17_E&S20_E&S21_E&S22_E&S23_E&S24_E&S25_E&S26_E&S27_E&S30_E&S31_E&S32_E&S33_E&S34_E&S35_E&S36_E&S37_E&S40_E&S41_E&S42_E&S43_E&S44_E&S45_E&S46_E&S47_E&S50_B&S51_E&S52_E&S53_E&S54_E&S55_E&S56_W&S57_E&S60_E&S61_E&S62_E&S63_W&S64_E&S65_E&S66_E&S67_E&S70_E&S71_E&S72_E&S73_E&S74_E&S75_E&S76_E&S77_E HTTP/1.1\u001b[0m\" 200 -\n"
     ]
    },
    {
     "name": "stdout",
     "output_type": "stream",
     "text": [
      "in make_move\n"
     ]
    },
    {
     "name": "stderr",
     "output_type": "stream",
     "text": [
      "127.0.0.1 - - [29/Aug/2020 21:37:38] \"\u001b[37mGET /move/B&S00_E&S01_E&S02_E&S03_E&S04_E&S05_E&S06_E&S07_E&S10_E&S11_E&S12_BK&S13_E&S14_E&S15_E&S16_E&S17_E&S20_E&S21_E&S22_E&S23_E&S24_E&S25_E&S26_E&S27_E&S30_E&S31_E&S32_E&S33_E&S34_E&S35_E&S36_E&S37_E&S40_E&S41_E&S42_E&S43_E&S44_E&S45_E&S46_E&S47_E&S50_B&S51_E&S52_E&S53_E&S54_E&S55_E&S56_E&S57_E&S60_E&S61_E&S62_E&S63_W&S64_E&S65_E&S66_E&S67_W&S70_E&S71_E&S72_E&S73_E&S74_E&S75_E&S76_E&S77_E HTTP/1.1\u001b[0m\" 200 -\n"
     ]
    },
    {
     "name": "stdout",
     "output_type": "stream",
     "text": [
      "in make_move\n"
     ]
    },
    {
     "name": "stderr",
     "output_type": "stream",
     "text": [
      "127.0.0.1 - - [29/Aug/2020 21:37:38] \"\u001b[37mGET /move/W&S00_E&S01_E&S02_E&S03_E&S04_E&S05_E&S06_E&S07_E&S10_E&S11_E&S12_E&S13_E&S14_E&S15_E&S16_E&S17_E&S20_E&S21_E&S22_E&S23_BK&S24_E&S25_E&S26_E&S27_E&S30_E&S31_E&S32_E&S33_E&S34_E&S35_E&S36_E&S37_E&S40_E&S41_E&S42_E&S43_E&S44_E&S45_E&S46_E&S47_E&S50_B&S51_E&S52_E&S53_E&S54_E&S55_E&S56_E&S57_E&S60_E&S61_E&S62_E&S63_W&S64_E&S65_E&S66_E&S67_W&S70_E&S71_E&S72_E&S73_E&S74_E&S75_E&S76_E&S77_E HTTP/1.1\u001b[0m\" 200 -\n"
     ]
    },
    {
     "name": "stdout",
     "output_type": "stream",
     "text": [
      "in make_move\n"
     ]
    },
    {
     "name": "stderr",
     "output_type": "stream",
     "text": [
      "127.0.0.1 - - [29/Aug/2020 21:37:38] \"\u001b[37mGET /move/B&S00_E&S01_E&S02_E&S03_E&S04_E&S05_E&S06_E&S07_E&S10_E&S11_E&S12_E&S13_E&S14_E&S15_E&S16_E&S17_E&S20_E&S21_E&S22_E&S23_BK&S24_E&S25_E&S26_E&S27_E&S30_E&S31_E&S32_E&S33_E&S34_E&S35_E&S36_E&S37_E&S40_E&S41_E&S42_E&S43_E&S44_E&S45_E&S46_E&S47_E&S50_B&S51_E&S52_E&S53_E&S54_E&S55_E&S56_E&S57_E&S60_E&S61_E&S62_E&S63_E&S64_E&S65_E&S66_E&S67_W&S70_E&S71_E&S72_E&S73_E&S74_WK&S75_E&S76_E&S77_E HTTP/1.1\u001b[0m\" 200 -\n"
     ]
    },
    {
     "name": "stdout",
     "output_type": "stream",
     "text": [
      "in make_move\n"
     ]
    },
    {
     "name": "stderr",
     "output_type": "stream",
     "text": [
      "127.0.0.1 - - [29/Aug/2020 21:37:39] \"\u001b[37mGET /move/W&S00_E&S01_E&S02_E&S03_E&S04_E&S05_E&S06_E&S07_E&S10_E&S11_E&S12_E&S13_E&S14_E&S15_E&S16_E&S17_E&S20_E&S21_E&S22_E&S23_E&S24_E&S25_E&S26_E&S27_E&S30_E&S31_E&S32_E&S33_E&S34_BK&S35_E&S36_E&S37_E&S40_E&S41_E&S42_E&S43_E&S44_E&S45_E&S46_E&S47_E&S50_B&S51_E&S52_E&S53_E&S54_E&S55_E&S56_E&S57_E&S60_E&S61_E&S62_E&S63_E&S64_E&S65_E&S66_E&S67_W&S70_E&S71_E&S72_E&S73_E&S74_WK&S75_E&S76_E&S77_E HTTP/1.1\u001b[0m\" 200 -\n"
     ]
    },
    {
     "name": "stdout",
     "output_type": "stream",
     "text": [
      "in make_move\n"
     ]
    },
    {
     "name": "stderr",
     "output_type": "stream",
     "text": [
      "127.0.0.1 - - [29/Aug/2020 21:37:39] \"\u001b[37mGET /move/B&S00_E&S01_E&S02_E&S03_E&S04_E&S05_E&S06_E&S07_E&S10_E&S11_E&S12_E&S13_E&S14_E&S15_E&S16_E&S17_E&S20_E&S21_E&S22_E&S23_E&S24_E&S25_E&S26_E&S27_E&S30_E&S31_E&S32_E&S33_E&S34_BK&S35_E&S36_E&S37_E&S40_E&S41_E&S42_E&S43_E&S44_E&S45_E&S46_E&S47_E&S50_B&S51_E&S52_E&S53_E&S54_E&S55_E&S56_E&S57_E&S60_E&S61_E&S62_E&S63_E&S64_E&S65_E&S66_E&S67_E&S70_E&S71_E&S72_E&S73_E&S74_WK&S75_E&S76_WK&S77_E HTTP/1.1\u001b[0m\" 200 -\n"
     ]
    },
    {
     "name": "stdout",
     "output_type": "stream",
     "text": [
      "in make_move\n"
     ]
    },
    {
     "name": "stderr",
     "output_type": "stream",
     "text": [
      "127.0.0.1 - - [29/Aug/2020 21:37:39] \"\u001b[37mGET /move/W&S00_E&S01_E&S02_E&S03_E&S04_E&S05_E&S06_E&S07_E&S10_E&S11_E&S12_E&S13_E&S14_E&S15_E&S16_E&S17_E&S20_E&S21_E&S22_E&S23_E&S24_E&S25_E&S26_E&S27_E&S30_E&S31_E&S32_E&S33_E&S34_E&S35_E&S36_E&S37_E&S40_E&S41_E&S42_E&S43_E&S44_E&S45_BK&S46_E&S47_E&S50_B&S51_E&S52_E&S53_E&S54_E&S55_E&S56_E&S57_E&S60_E&S61_E&S62_E&S63_E&S64_E&S65_E&S66_E&S67_E&S70_E&S71_E&S72_E&S73_E&S74_WK&S75_E&S76_WK&S77_E HTTP/1.1\u001b[0m\" 200 -\n"
     ]
    },
    {
     "name": "stdout",
     "output_type": "stream",
     "text": [
      "in make_move\n"
     ]
    },
    {
     "name": "stderr",
     "output_type": "stream",
     "text": [
      "127.0.0.1 - - [29/Aug/2020 21:37:39] \"\u001b[37mGET /move/B&S00_E&S01_E&S02_E&S03_E&S04_E&S05_E&S06_E&S07_E&S10_E&S11_E&S12_E&S13_E&S14_E&S15_E&S16_E&S17_E&S20_E&S21_E&S22_E&S23_E&S24_E&S25_E&S26_E&S27_E&S30_E&S31_E&S32_E&S33_E&S34_E&S35_E&S36_E&S37_E&S40_E&S41_E&S42_E&S43_E&S44_E&S45_BK&S46_E&S47_E&S50_B&S51_E&S52_E&S53_E&S54_E&S55_E&S56_E&S57_E&S60_E&S61_E&S62_E&S63_E&S64_E&S65_WK&S66_E&S67_E&S70_E&S71_E&S72_E&S73_E&S74_E&S75_E&S76_WK&S77_E HTTP/1.1\u001b[0m\" 200 -\n"
     ]
    },
    {
     "name": "stdout",
     "output_type": "stream",
     "text": [
      "in make_move\n"
     ]
    },
    {
     "name": "stderr",
     "output_type": "stream",
     "text": [
      "127.0.0.1 - - [29/Aug/2020 21:37:40] \"\u001b[37mGET /move/W&S00_E&S01_E&S02_E&S03_E&S04_E&S05_E&S06_E&S07_E&S10_E&S11_E&S12_E&S13_E&S14_E&S15_E&S16_E&S17_E&S20_E&S21_E&S22_E&S23_E&S24_E&S25_E&S26_E&S27_E&S30_E&S31_E&S32_E&S33_E&S34_E&S35_E&S36_BK&S37_E&S40_E&S41_E&S42_E&S43_E&S44_E&S45_E&S46_E&S47_E&S50_B&S51_E&S52_E&S53_E&S54_E&S55_E&S56_E&S57_E&S60_E&S61_E&S62_E&S63_E&S64_E&S65_WK&S66_E&S67_E&S70_E&S71_E&S72_E&S73_E&S74_E&S75_E&S76_WK&S77_E HTTP/1.1\u001b[0m\" 200 -\n"
     ]
    },
    {
     "name": "stdout",
     "output_type": "stream",
     "text": [
      "in make_move\n"
     ]
    },
    {
     "name": "stderr",
     "output_type": "stream",
     "text": [
      "127.0.0.1 - - [29/Aug/2020 21:37:40] \"\u001b[37mGET /move/B&S00_E&S01_E&S02_E&S03_E&S04_E&S05_E&S06_E&S07_E&S10_E&S11_E&S12_E&S13_E&S14_E&S15_E&S16_E&S17_E&S20_E&S21_E&S22_E&S23_E&S24_E&S25_E&S26_E&S27_E&S30_E&S31_E&S32_E&S33_E&S34_E&S35_E&S36_BK&S37_E&S40_E&S41_E&S42_E&S43_E&S44_E&S45_E&S46_E&S47_E&S50_B&S51_E&S52_E&S53_E&S54_E&S55_E&S56_E&S57_E&S60_E&S61_E&S62_E&S63_E&S64_E&S65_E&S66_E&S67_E&S70_E&S71_E&S72_E&S73_E&S74_WK&S75_E&S76_WK&S77_E HTTP/1.1\u001b[0m\" 200 -\n"
     ]
    },
    {
     "name": "stdout",
     "output_type": "stream",
     "text": [
      "in make_move\n"
     ]
    },
    {
     "name": "stderr",
     "output_type": "stream",
     "text": [
      "127.0.0.1 - - [29/Aug/2020 21:37:40] \"\u001b[37mGET /move/W&S00_E&S01_E&S02_E&S03_E&S04_E&S05_E&S06_E&S07_E&S10_E&S11_E&S12_E&S13_E&S14_E&S15_E&S16_E&S17_E&S20_E&S21_E&S22_E&S23_E&S24_E&S25_E&S26_E&S27_E&S30_E&S31_E&S32_E&S33_E&S34_E&S35_E&S36_E&S37_E&S40_E&S41_E&S42_E&S43_E&S44_E&S45_E&S46_E&S47_BK&S50_B&S51_E&S52_E&S53_E&S54_E&S55_E&S56_E&S57_E&S60_E&S61_E&S62_E&S63_E&S64_E&S65_E&S66_E&S67_E&S70_E&S71_E&S72_E&S73_E&S74_WK&S75_E&S76_WK&S77_E HTTP/1.1\u001b[0m\" 200 -\n"
     ]
    },
    {
     "name": "stdout",
     "output_type": "stream",
     "text": [
      "in make_move\n"
     ]
    },
    {
     "name": "stderr",
     "output_type": "stream",
     "text": [
      "127.0.0.1 - - [29/Aug/2020 21:37:41] \"\u001b[37mGET /move/B&S00_E&S01_E&S02_E&S03_E&S04_E&S05_E&S06_E&S07_E&S10_E&S11_E&S12_E&S13_E&S14_E&S15_E&S16_E&S17_E&S20_E&S21_E&S22_E&S23_E&S24_E&S25_E&S26_E&S27_E&S30_E&S31_E&S32_E&S33_E&S34_E&S35_E&S36_E&S37_E&S40_E&S41_E&S42_E&S43_E&S44_E&S45_E&S46_E&S47_BK&S50_B&S51_E&S52_E&S53_E&S54_E&S55_E&S56_E&S57_E&S60_E&S61_E&S62_E&S63_E&S64_E&S65_WK&S66_E&S67_E&S70_E&S71_E&S72_E&S73_E&S74_E&S75_E&S76_WK&S77_E HTTP/1.1\u001b[0m\" 200 -\n"
     ]
    },
    {
     "name": "stdout",
     "output_type": "stream",
     "text": [
      "in make_move\n"
     ]
    },
    {
     "name": "stderr",
     "output_type": "stream",
     "text": [
      "127.0.0.1 - - [29/Aug/2020 21:37:41] \"\u001b[37mGET /move/W&S00_E&S01_E&S02_E&S03_E&S04_E&S05_E&S06_E&S07_E&S10_E&S11_E&S12_E&S13_E&S14_E&S15_E&S16_E&S17_E&S20_E&S21_E&S22_E&S23_E&S24_E&S25_E&S26_E&S27_E&S30_E&S31_E&S32_E&S33_E&S34_E&S35_E&S36_BK&S37_E&S40_E&S41_E&S42_E&S43_E&S44_E&S45_E&S46_E&S47_E&S50_B&S51_E&S52_E&S53_E&S54_E&S55_E&S56_E&S57_E&S60_E&S61_E&S62_E&S63_E&S64_E&S65_WK&S66_E&S67_E&S70_E&S71_E&S72_E&S73_E&S74_E&S75_E&S76_WK&S77_E HTTP/1.1\u001b[0m\" 200 -\n"
     ]
    },
    {
     "name": "stdout",
     "output_type": "stream",
     "text": [
      "in make_move\n"
     ]
    },
    {
     "name": "stderr",
     "output_type": "stream",
     "text": [
      "127.0.0.1 - - [29/Aug/2020 21:37:41] \"\u001b[37mGET /move/B&S00_E&S01_E&S02_E&S03_E&S04_E&S05_E&S06_E&S07_E&S10_E&S11_E&S12_E&S13_E&S14_E&S15_E&S16_E&S17_E&S20_E&S21_E&S22_E&S23_E&S24_E&S25_E&S26_E&S27_E&S30_E&S31_E&S32_E&S33_E&S34_E&S35_E&S36_BK&S37_E&S40_E&S41_E&S42_E&S43_E&S44_E&S45_E&S46_E&S47_E&S50_B&S51_E&S52_E&S53_E&S54_E&S55_E&S56_E&S57_E&S60_E&S61_E&S62_E&S63_E&S64_E&S65_E&S66_E&S67_E&S70_E&S71_E&S72_E&S73_E&S74_WK&S75_E&S76_WK&S77_E HTTP/1.1\u001b[0m\" 200 -\n"
     ]
    },
    {
     "name": "stdout",
     "output_type": "stream",
     "text": [
      "in make_move\n"
     ]
    },
    {
     "name": "stderr",
     "output_type": "stream",
     "text": [
      "127.0.0.1 - - [29/Aug/2020 21:37:41] \"\u001b[37mGET /move/W&S00_E&S01_E&S02_E&S03_E&S04_E&S05_E&S06_E&S07_E&S10_E&S11_E&S12_E&S13_E&S14_E&S15_E&S16_E&S17_E&S20_E&S21_E&S22_E&S23_E&S24_E&S25_E&S26_E&S27_E&S30_E&S31_E&S32_E&S33_E&S34_E&S35_E&S36_E&S37_E&S40_E&S41_E&S42_E&S43_E&S44_E&S45_E&S46_E&S47_BK&S50_B&S51_E&S52_E&S53_E&S54_E&S55_E&S56_E&S57_E&S60_E&S61_E&S62_E&S63_E&S64_E&S65_E&S66_E&S67_E&S70_E&S71_E&S72_E&S73_E&S74_WK&S75_E&S76_WK&S77_E HTTP/1.1\u001b[0m\" 200 -\n"
     ]
    },
    {
     "name": "stdout",
     "output_type": "stream",
     "text": [
      "in make_move\n"
     ]
    },
    {
     "name": "stderr",
     "output_type": "stream",
     "text": [
      "127.0.0.1 - - [29/Aug/2020 21:37:42] \"\u001b[37mGET /move/B&S00_E&S01_E&S02_E&S03_E&S04_E&S05_E&S06_E&S07_E&S10_E&S11_E&S12_E&S13_E&S14_E&S15_E&S16_E&S17_E&S20_E&S21_E&S22_E&S23_E&S24_E&S25_E&S26_E&S27_E&S30_E&S31_E&S32_E&S33_E&S34_E&S35_E&S36_E&S37_E&S40_E&S41_E&S42_E&S43_E&S44_E&S45_E&S46_E&S47_BK&S50_B&S51_E&S52_E&S53_E&S54_E&S55_E&S56_E&S57_E&S60_E&S61_E&S62_E&S63_E&S64_E&S65_WK&S66_E&S67_E&S70_E&S71_E&S72_E&S73_E&S74_E&S75_E&S76_WK&S77_E HTTP/1.1\u001b[0m\" 200 -\n"
     ]
    },
    {
     "name": "stdout",
     "output_type": "stream",
     "text": [
      "in make_move\n"
     ]
    },
    {
     "name": "stderr",
     "output_type": "stream",
     "text": [
      "127.0.0.1 - - [29/Aug/2020 21:37:42] \"\u001b[37mGET /move/W&S00_E&S01_E&S02_E&S03_E&S04_E&S05_E&S06_E&S07_E&S10_E&S11_E&S12_E&S13_E&S14_E&S15_E&S16_E&S17_E&S20_E&S21_E&S22_E&S23_E&S24_E&S25_E&S26_E&S27_E&S30_E&S31_E&S32_E&S33_E&S34_E&S35_E&S36_BK&S37_E&S40_E&S41_E&S42_E&S43_E&S44_E&S45_E&S46_E&S47_E&S50_B&S51_E&S52_E&S53_E&S54_E&S55_E&S56_E&S57_E&S60_E&S61_E&S62_E&S63_E&S64_E&S65_WK&S66_E&S67_E&S70_E&S71_E&S72_E&S73_E&S74_E&S75_E&S76_WK&S77_E HTTP/1.1\u001b[0m\" 200 -\n"
     ]
    },
    {
     "name": "stdout",
     "output_type": "stream",
     "text": [
      "in make_move\n"
     ]
    },
    {
     "name": "stderr",
     "output_type": "stream",
     "text": [
      "127.0.0.1 - - [29/Aug/2020 21:37:42] \"\u001b[37mGET /move/B&S00_E&S01_E&S02_E&S03_E&S04_E&S05_E&S06_E&S07_E&S10_E&S11_E&S12_E&S13_E&S14_E&S15_E&S16_E&S17_E&S20_E&S21_E&S22_E&S23_E&S24_E&S25_E&S26_E&S27_E&S30_E&S31_E&S32_E&S33_E&S34_E&S35_E&S36_BK&S37_E&S40_E&S41_E&S42_E&S43_E&S44_E&S45_E&S46_E&S47_E&S50_B&S51_E&S52_E&S53_E&S54_E&S55_E&S56_E&S57_E&S60_E&S61_E&S62_E&S63_E&S64_E&S65_E&S66_E&S67_E&S70_E&S71_E&S72_E&S73_E&S74_WK&S75_E&S76_WK&S77_E HTTP/1.1\u001b[0m\" 200 -\n"
     ]
    },
    {
     "name": "stdout",
     "output_type": "stream",
     "text": [
      "in make_move\n"
     ]
    },
    {
     "name": "stderr",
     "output_type": "stream",
     "text": [
      "127.0.0.1 - - [29/Aug/2020 21:37:43] \"\u001b[37mGET /move/W&S00_E&S01_E&S02_E&S03_E&S04_E&S05_E&S06_E&S07_E&S10_E&S11_E&S12_E&S13_E&S14_E&S15_E&S16_E&S17_E&S20_E&S21_E&S22_E&S23_E&S24_E&S25_E&S26_E&S27_E&S30_E&S31_E&S32_E&S33_E&S34_E&S35_E&S36_E&S37_E&S40_E&S41_E&S42_E&S43_E&S44_E&S45_E&S46_E&S47_BK&S50_B&S51_E&S52_E&S53_E&S54_E&S55_E&S56_E&S57_E&S60_E&S61_E&S62_E&S63_E&S64_E&S65_E&S66_E&S67_E&S70_E&S71_E&S72_E&S73_E&S74_WK&S75_E&S76_WK&S77_E HTTP/1.1\u001b[0m\" 200 -\n"
     ]
    },
    {
     "name": "stdout",
     "output_type": "stream",
     "text": [
      "in make_move\n"
     ]
    },
    {
     "name": "stderr",
     "output_type": "stream",
     "text": [
      "127.0.0.1 - - [29/Aug/2020 21:37:43] \"\u001b[37mGET /move/B&S00_E&S01_E&S02_E&S03_E&S04_E&S05_E&S06_E&S07_E&S10_E&S11_E&S12_E&S13_E&S14_E&S15_E&S16_E&S17_E&S20_E&S21_E&S22_E&S23_E&S24_E&S25_E&S26_E&S27_E&S30_E&S31_E&S32_E&S33_E&S34_E&S35_E&S36_E&S37_E&S40_E&S41_E&S42_E&S43_E&S44_E&S45_E&S46_E&S47_BK&S50_B&S51_E&S52_E&S53_E&S54_E&S55_E&S56_E&S57_E&S60_E&S61_E&S62_E&S63_E&S64_E&S65_WK&S66_E&S67_E&S70_E&S71_E&S72_E&S73_E&S74_E&S75_E&S76_WK&S77_E HTTP/1.1\u001b[0m\" 200 -\n"
     ]
    },
    {
     "name": "stdout",
     "output_type": "stream",
     "text": [
      "in make_move\n"
     ]
    },
    {
     "name": "stderr",
     "output_type": "stream",
     "text": [
      "127.0.0.1 - - [29/Aug/2020 21:37:43] \"\u001b[37mGET /move/W&S00_E&S01_E&S02_E&S03_E&S04_E&S05_E&S06_E&S07_E&S10_E&S11_E&S12_E&S13_E&S14_E&S15_E&S16_E&S17_E&S20_E&S21_E&S22_E&S23_E&S24_E&S25_E&S26_E&S27_E&S30_E&S31_E&S32_E&S33_E&S34_E&S35_E&S36_BK&S37_E&S40_E&S41_E&S42_E&S43_E&S44_E&S45_E&S46_E&S47_E&S50_B&S51_E&S52_E&S53_E&S54_E&S55_E&S56_E&S57_E&S60_E&S61_E&S62_E&S63_E&S64_E&S65_WK&S66_E&S67_E&S70_E&S71_E&S72_E&S73_E&S74_E&S75_E&S76_WK&S77_E HTTP/1.1\u001b[0m\" 200 -\n"
     ]
    },
    {
     "name": "stdout",
     "output_type": "stream",
     "text": [
      "in make_move\n"
     ]
    },
    {
     "name": "stderr",
     "output_type": "stream",
     "text": [
      "127.0.0.1 - - [29/Aug/2020 21:37:43] \"\u001b[37mGET /move/B&S00_E&S01_E&S02_E&S03_E&S04_E&S05_E&S06_E&S07_E&S10_E&S11_E&S12_E&S13_E&S14_E&S15_E&S16_E&S17_E&S20_E&S21_E&S22_E&S23_E&S24_E&S25_E&S26_E&S27_E&S30_E&S31_E&S32_E&S33_E&S34_E&S35_E&S36_BK&S37_E&S40_E&S41_E&S42_E&S43_E&S44_E&S45_E&S46_E&S47_E&S50_B&S51_E&S52_E&S53_E&S54_E&S55_E&S56_E&S57_E&S60_E&S61_E&S62_E&S63_E&S64_E&S65_E&S66_E&S67_E&S70_E&S71_E&S72_E&S73_E&S74_WK&S75_E&S76_WK&S77_E HTTP/1.1\u001b[0m\" 200 -\n"
     ]
    },
    {
     "name": "stdout",
     "output_type": "stream",
     "text": [
      "in make_move\n"
     ]
    },
    {
     "name": "stderr",
     "output_type": "stream",
     "text": [
      "127.0.0.1 - - [29/Aug/2020 21:37:44] \"\u001b[37mGET /move/W&S00_E&S01_E&S02_E&S03_E&S04_E&S05_E&S06_E&S07_E&S10_E&S11_E&S12_E&S13_E&S14_E&S15_E&S16_E&S17_E&S20_E&S21_E&S22_E&S23_E&S24_E&S25_E&S26_E&S27_E&S30_E&S31_E&S32_E&S33_E&S34_E&S35_E&S36_E&S37_E&S40_E&S41_E&S42_E&S43_E&S44_E&S45_E&S46_E&S47_BK&S50_B&S51_E&S52_E&S53_E&S54_E&S55_E&S56_E&S57_E&S60_E&S61_E&S62_E&S63_E&S64_E&S65_E&S66_E&S67_E&S70_E&S71_E&S72_E&S73_E&S74_WK&S75_E&S76_WK&S77_E HTTP/1.1\u001b[0m\" 200 -\n",
      "127.0.0.1 - - [29/Aug/2020 21:37:44] \"\u001b[37mGET /move/B&S00_E&S01_E&S02_E&S03_E&S04_E&S05_E&S06_E&S07_E&S10_E&S11_E&S12_E&S13_E&S14_E&S15_E&S16_E&S17_E&S20_E&S21_E&S22_E&S23_E&S24_E&S25_E&S26_E&S27_E&S30_E&S31_E&S32_E&S33_E&S34_E&S35_E&S36_E&S37_E&S40_E&S41_E&S42_E&S43_E&S44_E&S45_E&S46_E&S47_BK&S50_B&S51_E&S52_E&S53_E&S54_E&S55_E&S56_E&S57_E&S60_E&S61_E&S62_E&S63_E&S64_E&S65_WK&S66_E&S67_E&S70_E&S71_E&S72_E&S73_E&S74_E&S75_E&S76_WK&S77_E HTTP/1.1\u001b[0m\" 200 -\n"
     ]
    },
    {
     "name": "stdout",
     "output_type": "stream",
     "text": [
      "in make_move\n",
      "in make_move\n"
     ]
    },
    {
     "name": "stderr",
     "output_type": "stream",
     "text": [
      "127.0.0.1 - - [29/Aug/2020 21:37:44] \"\u001b[37mGET /move/W&S00_E&S01_E&S02_E&S03_E&S04_E&S05_E&S06_E&S07_E&S10_E&S11_E&S12_E&S13_E&S14_E&S15_E&S16_E&S17_E&S20_E&S21_E&S22_E&S23_E&S24_E&S25_E&S26_E&S27_E&S30_E&S31_E&S32_E&S33_E&S34_E&S35_E&S36_BK&S37_E&S40_E&S41_E&S42_E&S43_E&S44_E&S45_E&S46_E&S47_E&S50_B&S51_E&S52_E&S53_E&S54_E&S55_E&S56_E&S57_E&S60_E&S61_E&S62_E&S63_E&S64_E&S65_WK&S66_E&S67_E&S70_E&S71_E&S72_E&S73_E&S74_E&S75_E&S76_WK&S77_E HTTP/1.1\u001b[0m\" 200 -\n",
      "127.0.0.1 - - [29/Aug/2020 21:37:44] \"\u001b[37mGET /move/B&S00_E&S01_E&S02_E&S03_E&S04_E&S05_E&S06_E&S07_E&S10_E&S11_E&S12_E&S13_E&S14_E&S15_E&S16_E&S17_E&S20_E&S21_E&S22_E&S23_E&S24_E&S25_E&S26_E&S27_E&S30_E&S31_E&S32_E&S33_E&S34_E&S35_E&S36_BK&S37_E&S40_E&S41_E&S42_E&S43_E&S44_E&S45_E&S46_E&S47_E&S50_B&S51_E&S52_E&S53_E&S54_E&S55_E&S56_E&S57_E&S60_E&S61_E&S62_E&S63_E&S64_E&S65_E&S66_E&S67_E&S70_E&S71_E&S72_E&S73_E&S74_WK&S75_E&S76_WK&S77_E HTTP/1.1\u001b[0m\" 200 -\n"
     ]
    },
    {
     "name": "stdout",
     "output_type": "stream",
     "text": [
      "in make_move\n",
      "in make_move\n"
     ]
    },
    {
     "name": "stderr",
     "output_type": "stream",
     "text": [
      "127.0.0.1 - - [29/Aug/2020 21:37:45] \"\u001b[37mGET /move/W&S00_E&S01_E&S02_E&S03_E&S04_E&S05_E&S06_E&S07_E&S10_E&S11_E&S12_E&S13_E&S14_E&S15_E&S16_E&S17_E&S20_E&S21_E&S22_E&S23_E&S24_E&S25_E&S26_E&S27_E&S30_E&S31_E&S32_E&S33_E&S34_E&S35_E&S36_E&S37_E&S40_E&S41_E&S42_E&S43_E&S44_E&S45_E&S46_E&S47_BK&S50_B&S51_E&S52_E&S53_E&S54_E&S55_E&S56_E&S57_E&S60_E&S61_E&S62_E&S63_E&S64_E&S65_E&S66_E&S67_E&S70_E&S71_E&S72_E&S73_E&S74_WK&S75_E&S76_WK&S77_E HTTP/1.1\u001b[0m\" 200 -\n"
     ]
    },
    {
     "name": "stdout",
     "output_type": "stream",
     "text": [
      "in make_move\n",
      "in make_move\n"
     ]
    },
    {
     "name": "stderr",
     "output_type": "stream",
     "text": [
      "127.0.0.1 - - [29/Aug/2020 21:37:45] \"\u001b[37mGET /move/B&S00_E&S01_E&S02_E&S03_E&S04_E&S05_E&S06_E&S07_E&S10_E&S11_E&S12_E&S13_E&S14_E&S15_E&S16_E&S17_E&S20_E&S21_E&S22_E&S23_E&S24_E&S25_E&S26_E&S27_E&S30_E&S31_E&S32_E&S33_E&S34_E&S35_E&S36_E&S37_E&S40_E&S41_E&S42_E&S43_E&S44_E&S45_E&S46_E&S47_BK&S50_B&S51_E&S52_E&S53_E&S54_E&S55_E&S56_E&S57_E&S60_E&S61_E&S62_E&S63_E&S64_E&S65_WK&S66_E&S67_E&S70_E&S71_E&S72_E&S73_E&S74_E&S75_E&S76_WK&S77_E HTTP/1.1\u001b[0m\" 200 -\n",
      "127.0.0.1 - - [29/Aug/2020 21:37:47] \"\u001b[37mGET /initial_position HTTP/1.1\u001b[0m\" 200 -\n"
     ]
    }
   ],
   "source": [
    "app.run()"
   ]
  },
  {
   "cell_type": "code",
   "execution_count": null,
   "metadata": {},
   "outputs": [],
   "source": []
  }
 ],
 "metadata": {
  "kernelspec": {
   "display_name": "Python 3",
   "language": "python",
   "name": "python3"
  },
  "language_info": {
   "codemirror_mode": {
    "name": "ipython",
    "version": 3
   },
   "file_extension": ".py",
   "mimetype": "text/x-python",
   "name": "python",
   "nbconvert_exporter": "python",
   "pygments_lexer": "ipython3",
   "version": "3.7.7"
  }
 },
 "nbformat": 4,
 "nbformat_minor": 4
}
