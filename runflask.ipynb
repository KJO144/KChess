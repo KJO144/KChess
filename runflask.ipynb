{
 "cells": [
  {
   "cell_type": "code",
   "execution_count": 1,
   "metadata": {},
   "outputs": [],
   "source": [
    "from flask import Flask\n",
    "from flask_cors import CORS, cross_origin\n",
    "from draughts import DraughtsBoard, DraughtsPiece\n",
    "from chess import ChessBoard, ChessPiece\n",
    "from minimax import best_move\n",
    "from base import Player\n",
    "import json"
   ]
  },
  {
   "cell_type": "code",
   "execution_count": 2,
   "metadata": {},
   "outputs": [],
   "source": [
    "board_types = {'draughts': DraughtsBoard, 'chess': ChessBoard}\n",
    "piece_types = {'draughts': DraughtsPiece, 'chess': ChessPiece}"
   ]
  },
  {
   "cell_type": "code",
   "execution_count": 3,
   "metadata": {},
   "outputs": [],
   "source": [
    "app = Flask(__name__)\n",
    "cors = CORS(app)\n",
    "app.config['CORS_HEADERS'] = 'Content-Type'\n",
    "\n",
    "def json_to_board(game, board_position_json):\n",
    "    \n",
    "    board_position = json.loads(board_position_json)\n",
    "    \n",
    "    board_position['player_to_move'] = Player[board_position['player_to_move']]\n",
    "    \n",
    "    board_type = board_types[game]\n",
    "    piece_type = piece_types[game]\n",
    "    \n",
    "    board_position['position'] = {(int(sq[1]), int(sq[2])): piece_type[piece] for sq, piece in board_position['position'].items()}\n",
    "\n",
    "    pm = board_position['previous_move']\n",
    "    if pm != \"none\":\n",
    "        board_position['previous_move'] = ( (int(pm[1]), int(pm[2])), (int(pm[4]), int(pm[5])) )\n",
    "        \n",
    "    if board_position.get('move'):\n",
    "        del(board_position['move'])\n",
    "\n",
    "    board = board_type.from_dict(board_position)\n",
    "#    print(board_position_json)\n",
    "    return board\n",
    "    \n",
    "@app.route('/<game>/initial_position')\n",
    "@cross_origin()\n",
    "def initial_position(game):\n",
    "    board_type = board_types[game]\n",
    "    b = board_type()\n",
    "    return b.to_json()\n",
    "\n",
    "@app.route('/<game>/pos/<position_json>')\n",
    "@cross_origin()\n",
    "def make_move_given_position(game, position_json):\n",
    "    \"Given a position, find the best move and return the new board with that move played.\"\n",
    "\n",
    "    board = json_to_board(game, position_json)\n",
    "\n",
    "    move = best_move(board, 2)\n",
    "    new_board = board.make_move(move)\n",
    "    \n",
    "    ret = new_board.to_json()\n",
    "    \n",
    "    return ret\n",
    "\n",
    "@app.route('/<game>/move/<pos_and_move_json>')\n",
    "@cross_origin()\n",
    "def play_move(game, pos_and_move_json):\n",
    "    \"\"\"\n",
    "    Given a position and a move, play that move and return the new board.\n",
    "    If the move is illegal, just return the original position.\n",
    "    The move is in the format S13_S34\n",
    "    \"\"\"    \n",
    "    board = json_to_board(game, pos_and_move_json)\n",
    "    \n",
    "#     for sq, piece in board.position.items():\n",
    "#         print(sq, type(piece))\n",
    "    \n",
    "    move = json.loads(pos_and_move_json)['move']\n",
    "           \n",
    "    move = ((int(move[1]), int(move[2])), (int(move[5]), int(move[6])))\n",
    "   \n",
    "    legal_moves = board.legal_moves()\n",
    "\n",
    "    if move in legal_moves:\n",
    "        new_board = board.make_move(move)\n",
    "    else:\n",
    "        print(move, ' is not legal.')\n",
    "        new_board = board\n",
    "    \n",
    "    ret = new_board.to_json()\n",
    "    return ret"
   ]
  },
  {
   "cell_type": "code",
   "execution_count": 4,
   "metadata": {
    "scrolled": false
   },
   "outputs": [
    {
     "name": "stdout",
     "output_type": "stream",
     "text": [
      " * Serving Flask app \"__main__\" (lazy loading)\n",
      " * Environment: production\n",
      "   WARNING: This is a development server. Do not use it in a production deployment.\n",
      "   Use a production WSGI server instead.\n",
      " * Debug mode: off\n"
     ]
    },
    {
     "name": "stderr",
     "output_type": "stream",
     "text": [
      " * Running on http://127.0.0.1:5000/ (Press CTRL+C to quit)\n",
      "127.0.0.1 - - [13/Sep/2020 19:48:47] \"\u001b[37mGET /chess/initial_position HTTP/1.1\u001b[0m\" 200 -\n",
      "127.0.0.1 - - [13/Sep/2020 19:48:49] \"\u001b[37mGET /chess/move/%7B%22position%22:%7B%22S70%22:%22BR%22,%22S71%22:%22BN%22,%22S72%22:%22BB%22,%22S73%22:%22BQ%22,%22S74%22:%22BK%22,%22S75%22:%22BB%22,%22S76%22:%22BN%22,%22S77%22:%22BR%22,%22S60%22:%22BP%22,%22S61%22:%22BP%22,%22S62%22:%22BP%22,%22S63%22:%22BP%22,%22S64%22:%22BP%22,%22S65%22:%22BP%22,%22S66%22:%22BP%22,%22S67%22:%22BP%22,%22S50%22:%22E%22,%22S51%22:%22E%22,%22S52%22:%22E%22,%22S53%22:%22E%22,%22S54%22:%22E%22,%22S55%22:%22E%22,%22S56%22:%22E%22,%22S57%22:%22E%22,%22S40%22:%22E%22,%22S41%22:%22E%22,%22S42%22:%22E%22,%22S43%22:%22E%22,%22S44%22:%22E%22,%22S45%22:%22E%22,%22S46%22:%22E%22,%22S47%22:%22E%22,%22S30%22:%22E%22,%22S31%22:%22E%22,%22S32%22:%22E%22,%22S33%22:%22E%22,%22S34%22:%22E%22,%22S35%22:%22E%22,%22S36%22:%22E%22,%22S37%22:%22E%22,%22S20%22:%22E%22,%22S21%22:%22E%22,%22S22%22:%22E%22,%22S23%22:%22E%22,%22S24%22:%22E%22,%22S25%22:%22E%22,%22S26%22:%22E%22,%22S27%22:%22E%22,%22S10%22:%22WP%22,%22S11%22:%22WP%22,%22S12%22:%22WP%22,%22S13%22:%22WP%22,%22S14%22:%22WP%22,%22S15%22:%22WP%22,%22S16%22:%22WP%22,%22S17%22:%22WP%22,%22S00%22:%22WR%22,%22S01%22:%22WN%22,%22S02%22:%22WB%22,%22S03%22:%22WQ%22,%22S04%22:%22WK%22,%22S05%22:%22WB%22,%22S06%22:%22WN%22,%22S07%22:%22WR%22%7D,%22player_to_move%22:%22W%22,%22previous_move%22:%22none%22,%22can_castle%22:%7B%22WKS%22:true,%22WQS%22:true,%22BKS%22:true,%22BQS%22:true%7D,%22move%22:%22S13_S23%22%7D HTTP/1.1\u001b[0m\" 200 -\n",
      "127.0.0.1 - - [13/Sep/2020 19:48:52] \"\u001b[37mGET /chess/pos/%7B%22position%22:%7B%22S70%22:%22BR%22,%22S71%22:%22BN%22,%22S72%22:%22BB%22,%22S73%22:%22BQ%22,%22S74%22:%22BK%22,%22S75%22:%22BB%22,%22S76%22:%22BN%22,%22S77%22:%22BR%22,%22S60%22:%22BP%22,%22S61%22:%22BP%22,%22S62%22:%22BP%22,%22S63%22:%22BP%22,%22S64%22:%22BP%22,%22S65%22:%22BP%22,%22S66%22:%22BP%22,%22S67%22:%22BP%22,%22S50%22:%22E%22,%22S51%22:%22E%22,%22S52%22:%22E%22,%22S53%22:%22E%22,%22S54%22:%22E%22,%22S55%22:%22E%22,%22S56%22:%22E%22,%22S57%22:%22E%22,%22S40%22:%22E%22,%22S41%22:%22E%22,%22S42%22:%22E%22,%22S43%22:%22E%22,%22S44%22:%22E%22,%22S45%22:%22E%22,%22S46%22:%22E%22,%22S47%22:%22E%22,%22S30%22:%22E%22,%22S31%22:%22E%22,%22S32%22:%22E%22,%22S33%22:%22E%22,%22S34%22:%22E%22,%22S35%22:%22E%22,%22S36%22:%22E%22,%22S37%22:%22E%22,%22S20%22:%22E%22,%22S21%22:%22E%22,%22S22%22:%22E%22,%22S23%22:%22WP%22,%22S24%22:%22E%22,%22S25%22:%22E%22,%22S26%22:%22E%22,%22S27%22:%22E%22,%22S10%22:%22WP%22,%22S11%22:%22WP%22,%22S12%22:%22WP%22,%22S13%22:%22E%22,%22S14%22:%22WP%22,%22S15%22:%22WP%22,%22S16%22:%22WP%22,%22S17%22:%22WP%22,%22S00%22:%22WR%22,%22S01%22:%22WN%22,%22S02%22:%22WB%22,%22S03%22:%22WQ%22,%22S04%22:%22WK%22,%22S05%22:%22WB%22,%22S06%22:%22WN%22,%22S07%22:%22WR%22%7D,%22player_to_move%22:%22B%22,%22previous_move%22:%22S13_23%22,%22can_castle%22:%7B%22WKS%22:true,%22WQS%22:true,%22BKS%22:true,%22BQS%22:true%7D%7D HTTP/1.1\u001b[0m\" 200 -\n",
      "127.0.0.1 - - [13/Sep/2020 19:48:54] \"\u001b[37mGET /chess/move/%7B%22position%22:%7B%22S70%22:%22BR%22,%22S71%22:%22E%22,%22S72%22:%22BB%22,%22S73%22:%22BQ%22,%22S74%22:%22BK%22,%22S75%22:%22BB%22,%22S76%22:%22BN%22,%22S77%22:%22BR%22,%22S60%22:%22BP%22,%22S61%22:%22BP%22,%22S62%22:%22BP%22,%22S63%22:%22BP%22,%22S64%22:%22BP%22,%22S65%22:%22BP%22,%22S66%22:%22BP%22,%22S67%22:%22BP%22,%22S50%22:%22E%22,%22S51%22:%22E%22,%22S52%22:%22BN%22,%22S53%22:%22E%22,%22S54%22:%22E%22,%22S55%22:%22E%22,%22S56%22:%22E%22,%22S57%22:%22E%22,%22S40%22:%22E%22,%22S41%22:%22E%22,%22S42%22:%22E%22,%22S43%22:%22E%22,%22S44%22:%22E%22,%22S45%22:%22E%22,%22S46%22:%22E%22,%22S47%22:%22E%22,%22S30%22:%22E%22,%22S31%22:%22E%22,%22S32%22:%22E%22,%22S33%22:%22E%22,%22S34%22:%22E%22,%22S35%22:%22E%22,%22S36%22:%22E%22,%22S37%22:%22E%22,%22S20%22:%22E%22,%22S21%22:%22E%22,%22S22%22:%22E%22,%22S23%22:%22WP%22,%22S24%22:%22E%22,%22S25%22:%22E%22,%22S26%22:%22E%22,%22S27%22:%22E%22,%22S10%22:%22WP%22,%22S11%22:%22WP%22,%22S12%22:%22WP%22,%22S13%22:%22E%22,%22S14%22:%22WP%22,%22S15%22:%22WP%22,%22S16%22:%22WP%22,%22S17%22:%22WP%22,%22S00%22:%22WR%22,%22S01%22:%22WN%22,%22S02%22:%22WB%22,%22S03%22:%22WQ%22,%22S04%22:%22WK%22,%22S05%22:%22WB%22,%22S06%22:%22WN%22,%22S07%22:%22WR%22%7D,%22player_to_move%22:%22W%22,%22previous_move%22:%22S71_52%22,%22can_castle%22:%7B%22WKS%22:true,%22WQS%22:true,%22BKS%22:true,%22BQS%22:true%7D,%22move%22:%22S02_S35%22%7D HTTP/1.1\u001b[0m\" 200 -\n",
      "[2020-09-13 19:48:55,843] ERROR in app: Exception on /chess/pos/{\"position\":{\"S70\":\"BR\",\"S71\":\"E\",\"S72\":\"BB\",\"S73\":\"BQ\",\"S74\":\"BK\",\"S75\":\"BB\",\"S76\":\"BN\",\"S77\":\"BR\",\"S60\":\"BP\",\"S61\":\"BP\",\"S62\":\"BP\",\"S63\":\"BP\",\"S64\":\"BP\",\"S65\":\"BP\",\"S66\":\"BP\",\"S67\":\"BP\",\"S50\":\"E\",\"S51\":\"E\",\"S52\":\"BN\",\"S53\":\"E\",\"S54\":\"E\",\"S55\":\"E\",\"S56\":\"E\",\"S57\":\"E\",\"S40\":\"E\",\"S41\":\"E\",\"S42\":\"E\",\"S43\":\"E\",\"S44\":\"E\",\"S45\":\"E\",\"S46\":\"E\",\"S47\":\"E\",\"S30\":\"E\",\"S31\":\"E\",\"S32\":\"E\",\"S33\":\"E\",\"S34\":\"E\",\"S35\":\"WB\",\"S36\":\"E\",\"S37\":\"E\",\"S20\":\"E\",\"S21\":\"E\",\"S22\":\"E\",\"S23\":\"WP\",\"S24\":\"E\",\"S25\":\"E\",\"S26\":\"E\",\"S27\":\"E\",\"S10\":\"WP\",\"S11\":\"WP\",\"S12\":\"WP\",\"S13\":\"E\",\"S14\":\"WP\",\"S15\":\"WP\",\"S16\":\"WP\",\"S17\":\"WP\",\"S00\":\"WR\",\"S01\":\"WN\",\"S02\":\"E\",\"S03\":\"WQ\",\"S04\":\"WK\",\"S05\":\"WB\",\"S06\":\"WN\",\"S07\":\"WR\"},\"player_to_move\":\"B\",\"previous_move\":\"S02_35\",\"can_castle\":{\"WKS\":true,\"WQS\":true,\"BKS\":true,\"BQS\":true}} [GET]\n",
      "Traceback (most recent call last):\n",
      "  File \"C:\\Users\\kemal\\Anaconda3\\lib\\site-packages\\flask\\app.py\", line 2447, in wsgi_app\n",
      "    response = self.full_dispatch_request()\n",
      "  File \"C:\\Users\\kemal\\Anaconda3\\lib\\site-packages\\flask\\app.py\", line 1952, in full_dispatch_request\n",
      "    rv = self.handle_user_exception(e)\n",
      "  File \"C:\\Users\\kemal\\Anaconda3\\lib\\site-packages\\flask_cors\\extension.py\", line 161, in wrapped_function\n",
      "    return cors_after_request(app.make_response(f(*args, **kwargs)))\n",
      "  File \"C:\\Users\\kemal\\Anaconda3\\lib\\site-packages\\flask\\app.py\", line 1821, in handle_user_exception\n",
      "    reraise(exc_type, exc_value, tb)\n",
      "  File \"C:\\Users\\kemal\\Anaconda3\\lib\\site-packages\\flask\\_compat.py\", line 39, in reraise\n",
      "    raise value\n",
      "  File \"C:\\Users\\kemal\\Anaconda3\\lib\\site-packages\\flask\\app.py\", line 1950, in full_dispatch_request\n",
      "    rv = self.dispatch_request()\n",
      "  File \"C:\\Users\\kemal\\Anaconda3\\lib\\site-packages\\flask\\app.py\", line 1936, in dispatch_request\n",
      "    return self.view_functions[rule.endpoint](**req.view_args)\n",
      "  File \"C:\\Users\\kemal\\Anaconda3\\lib\\site-packages\\flask_cors\\decorator.py\", line 128, in wrapped_function\n",
      "    resp = make_response(f(*args, **kwargs))\n",
      "  File \"<ipython-input-3-6bfa8a7dfff9>\", line 41, in make_move_given_position\n",
      "    move = best_move(board, 2)\n",
      "  File \"C:\\Users\\kemal\\Documents\\workspace\\two_player_game\\minimax.py\", line 45, in best_move\n",
      "    scores = np.array([minimax(board, move, max_depth) for move in legal_moves])\n",
      "  File \"C:\\Users\\kemal\\Documents\\workspace\\two_player_game\\minimax.py\", line 45, in <listcomp>\n",
      "    scores = np.array([minimax(board, move, max_depth) for move in legal_moves])\n",
      "  File \"C:\\Users\\kemal\\Documents\\workspace\\two_player_game\\minimax.py\", line 20, in minimax\n",
      "    legal_moves = new_board.legal_moves()\n",
      "  File \"C:\\Users\\kemal\\Documents\\workspace\\two_player_game\\chess.py\", line 248, in legal_moves\n",
      "    legal_moves = [m for m in moves if not self._puts_me_in_check(m)]\n",
      "  File \"C:\\Users\\kemal\\Documents\\workspace\\two_player_game\\chess.py\", line 248, in <listcomp>\n",
      "    legal_moves = [m for m in moves if not self._puts_me_in_check(m)]\n",
      "  File \"C:\\Users\\kemal\\Documents\\workspace\\two_player_game\\chess.py\", line 228, in _puts_me_in_check\n",
      "    moves = new_board._moves(new_board.player_to_move)\n",
      "  File \"C:\\Users\\kemal\\Documents\\workspace\\two_player_game\\chess.py\", line 157, in _moves\n",
      "    relevant_pieces = {sq: piece for sq, piece in pos.items() if piece.owner() == player_to_move}\n",
      "  File \"C:\\Users\\kemal\\Documents\\workspace\\two_player_game\\chess.py\", line 157, in <dictcomp>\n",
      "    relevant_pieces = {sq: piece for sq, piece in pos.items() if piece.owner() == player_to_move}\n",
      "AttributeError: 'str' object has no attribute 'owner'\n",
      "127.0.0.1 - - [13/Sep/2020 19:48:55] \"\u001b[1m\u001b[35mGET /chess/pos/%7B%22position%22:%7B%22S70%22:%22BR%22,%22S71%22:%22E%22,%22S72%22:%22BB%22,%22S73%22:%22BQ%22,%22S74%22:%22BK%22,%22S75%22:%22BB%22,%22S76%22:%22BN%22,%22S77%22:%22BR%22,%22S60%22:%22BP%22,%22S61%22:%22BP%22,%22S62%22:%22BP%22,%22S63%22:%22BP%22,%22S64%22:%22BP%22,%22S65%22:%22BP%22,%22S66%22:%22BP%22,%22S67%22:%22BP%22,%22S50%22:%22E%22,%22S51%22:%22E%22,%22S52%22:%22BN%22,%22S53%22:%22E%22,%22S54%22:%22E%22,%22S55%22:%22E%22,%22S56%22:%22E%22,%22S57%22:%22E%22,%22S40%22:%22E%22,%22S41%22:%22E%22,%22S42%22:%22E%22,%22S43%22:%22E%22,%22S44%22:%22E%22,%22S45%22:%22E%22,%22S46%22:%22E%22,%22S47%22:%22E%22,%22S30%22:%22E%22,%22S31%22:%22E%22,%22S32%22:%22E%22,%22S33%22:%22E%22,%22S34%22:%22E%22,%22S35%22:%22WB%22,%22S36%22:%22E%22,%22S37%22:%22E%22,%22S20%22:%22E%22,%22S21%22:%22E%22,%22S22%22:%22E%22,%22S23%22:%22WP%22,%22S24%22:%22E%22,%22S25%22:%22E%22,%22S26%22:%22E%22,%22S27%22:%22E%22,%22S10%22:%22WP%22,%22S11%22:%22WP%22,%22S12%22:%22WP%22,%22S13%22:%22E%22,%22S14%22:%22WP%22,%22S15%22:%22WP%22,%22S16%22:%22WP%22,%22S17%22:%22WP%22,%22S00%22:%22WR%22,%22S01%22:%22WN%22,%22S02%22:%22E%22,%22S03%22:%22WQ%22,%22S04%22:%22WK%22,%22S05%22:%22WB%22,%22S06%22:%22WN%22,%22S07%22:%22WR%22%7D,%22player_to_move%22:%22B%22,%22previous_move%22:%22S02_35%22,%22can_castle%22:%7B%22WKS%22:true,%22WQS%22:true,%22BKS%22:true,%22BQS%22:true%7D%7D HTTP/1.1\u001b[0m\" 500 -\n"
     ]
    },
    {
     "name": "stdout",
     "output_type": "stream",
     "text": [
      "{(7, 0): <ChessPiece.BR: ('B', 0, 5, 'Rook')>, (7, 1): 'WB', (7, 2): <ChessPiece.BB: ('B', 0, 3, 'Bishop')>, (7, 3): <ChessPiece.BQ: ('B', 0, 9, 'Queen')>, (7, 4): <ChessPiece.BK: ('B', 0, 999, 'King')>, (7, 5): <ChessPiece.BB: ('B', 0, 3, 'Bishop')>, (7, 6): <ChessPiece.BN: ('B', 0, 3, 'Knight')>, (7, 7): <ChessPiece.BR: ('B', 0, 5, 'Rook')>, (6, 0): <ChessPiece.BP: ('B', 0, 1, 'Pawn')>, (6, 1): <ChessPiece.BP: ('B', 0, 1, 'Pawn')>, (6, 2): <ChessPiece.E: (None, None, None, None)>, (6, 3): <ChessPiece.BP: ('B', 0, 1, 'Pawn')>, (6, 4): <ChessPiece.BP: ('B', 0, 1, 'Pawn')>, (6, 5): <ChessPiece.BP: ('B', 0, 1, 'Pawn')>, (6, 6): <ChessPiece.BP: ('B', 0, 1, 'Pawn')>, (6, 7): <ChessPiece.BP: ('B', 0, 1, 'Pawn')>, (5, 0): <ChessPiece.E: (None, None, None, None)>, (5, 1): <ChessPiece.E: (None, None, None, None)>, (5, 2): <ChessPiece.BN: ('B', 0, 3, 'Knight')>, (5, 3): <ChessPiece.E: (None, None, None, None)>, (5, 4): <ChessPiece.E: (None, None, None, None)>, (5, 5): <ChessPiece.E: (None, None, None, None)>, (5, 6): <ChessPiece.E: (None, None, None, None)>, (5, 7): <ChessPiece.E: (None, None, None, None)>, (4, 0): <ChessPiece.E: (None, None, None, None)>, (4, 1): <ChessPiece.E: (None, None, None, None)>, (4, 2): <ChessPiece.BP: ('B', 0, 1, 'Pawn')>, (4, 3): <ChessPiece.E: (None, None, None, None)>, (4, 4): <ChessPiece.E: (None, None, None, None)>, (4, 5): <ChessPiece.E: (None, None, None, None)>, (4, 6): <ChessPiece.E: (None, None, None, None)>, (4, 7): <ChessPiece.E: (None, None, None, None)>, (3, 0): <ChessPiece.E: (None, None, None, None)>, (3, 1): <ChessPiece.E: (None, None, None, None)>, (3, 2): <ChessPiece.E: (None, None, None, None)>, (3, 3): <ChessPiece.E: (None, None, None, None)>, (3, 4): <ChessPiece.E: (None, None, None, None)>, (3, 5): <ChessPiece.E: (None, None, None, None)>, (3, 6): <ChessPiece.E: (None, None, None, None)>, (3, 7): <ChessPiece.E: (None, None, None, None)>, (2, 0): <ChessPiece.E: (None, None, None, None)>, (2, 1): <ChessPiece.E: (None, None, None, None)>, (2, 2): <ChessPiece.E: (None, None, None, None)>, (2, 3): <ChessPiece.WP: ('W', 7, 1, 'Pawn')>, (2, 4): <ChessPiece.E: (None, None, None, None)>, (2, 5): <ChessPiece.E: (None, None, None, None)>, (2, 6): <ChessPiece.E: (None, None, None, None)>, (2, 7): <ChessPiece.E: (None, None, None, None)>, (1, 0): <ChessPiece.WP: ('W', 7, 1, 'Pawn')>, (1, 1): <ChessPiece.WP: ('W', 7, 1, 'Pawn')>, (1, 2): <ChessPiece.WP: ('W', 7, 1, 'Pawn')>, (1, 3): <ChessPiece.E: (None, None, None, None)>, (1, 4): <ChessPiece.WP: ('W', 7, 1, 'Pawn')>, (1, 5): <ChessPiece.WP: ('W', 7, 1, 'Pawn')>, (1, 6): <ChessPiece.WP: ('W', 7, 1, 'Pawn')>, (1, 7): <ChessPiece.WP: ('W', 7, 1, 'Pawn')>, (0, 0): <ChessPiece.WR: ('W', 7, 5, 'Rook')>, (0, 1): <ChessPiece.WN: ('W', 7, 3, 'Knight')>, (0, 2): <ChessPiece.E: (None, None, None, None)>, (0, 3): <ChessPiece.WQ: ('W', 7, 9, 'Queen')>, (0, 4): <ChessPiece.WK: ('W', 7, 999, 'King')>, (0, 5): <ChessPiece.WB: ('W', 7, 3, 'Bishop')>, (0, 6): <ChessPiece.WN: ('W', 7, 3, 'Knight')>, (0, 7): <ChessPiece.WR: ('W', 7, 5, 'Rook')>}\n",
      "(7, 1) WB <class 'str'>\n"
     ]
    }
   ],
   "source": [
    "app.run()"
   ]
  }
 ],
 "metadata": {
  "kernelspec": {
   "display_name": "Python 3",
   "language": "python",
   "name": "python3"
  },
  "language_info": {
   "codemirror_mode": {
    "name": "ipython",
    "version": 3
   },
   "file_extension": ".py",
   "mimetype": "text/x-python",
   "name": "python",
   "nbconvert_exporter": "python",
   "pygments_lexer": "ipython3",
   "version": "3.7.7"
  }
 },
 "nbformat": 4,
 "nbformat_minor": 4
}
