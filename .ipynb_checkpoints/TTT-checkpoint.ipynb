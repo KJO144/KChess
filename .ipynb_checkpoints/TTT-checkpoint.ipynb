{
 "cells": [
  {
   "cell_type": "code",
   "execution_count": 336,
   "metadata": {},
   "outputs": [],
   "source": [
    "import numpy as np"
   ]
  },
  {
   "cell_type": "code",
   "execution_count": 337,
   "metadata": {},
   "outputs": [],
   "source": [
    "class Board():\n",
    "    \n",
    "    def __init__(self, position, turn):\n",
    "        self.turn = turn\n",
    "        self.position = position\n",
    "        \n",
    "    def legal_moves(self):\n",
    "        \"\"\"a move is a tuple (square, piece)\"\"\"\n",
    "        return [(sq, Piece(self.turn)) for sq,piece in self.position.items() if piece == Piece('E')]\n",
    "              \n",
    "    def make_move(self, move):\n",
    "        square, piece = move\n",
    "        new_pos = self.position.copy()\n",
    "        new_pos[square] = piece\n",
    "        new_turn = {'B':'W', 'W': 'B'}[self.turn]\n",
    "        return Board(new_pos, new_turn)\n",
    "    \n",
    "    def __str__(self):\n",
    "        ret = str([str(piece) for sq, piece in self.position.items()]) + f\" ({self.turn})\"\n",
    "        return ret\n",
    "\n",
    "    def winner(self):\n",
    "        \"\"\"Returns W if white has won, B if black as won, and N otherwise\"\"\"\n",
    "        pos = self.position\n",
    "        for win in self.wins:    \n",
    "            uniq = list(set([pos[i] for i in win]))\n",
    "            if len(uniq) == 1 and uniq[0] != Piece('E'):\n",
    "                return {Piece('W'): 'W', Piece('B'): 'B'}[uniq[0]]\n",
    "        return 'N'\n",
    "\n",
    "    a = np.array(range(9)).reshape((3,3))\n",
    "    rows = [list(a[i,:]) for i in range(3)]\n",
    "    cols = [list(a[:,i]) for i in range(3)]\n",
    "    wins = rows + cols + [[0,4,8]] + [[2,4,6]]\n",
    "        \n",
    "    \n",
    "class Piece():\n",
    "    \n",
    "    def __init__(self, _type):\n",
    "        self.type = _type # B (black), W (white) or E(empty)\n",
    "    \n",
    "    def __eq__(self, other):\n",
    "        return self.type == other.type\n",
    "    \n",
    "    def __str__(self):\n",
    "        return f\"{self.type}\"\n",
    "    \n",
    "    def __hash__(self):\n",
    "        return({'B': 0, 'W': 1, 'E': 2}[self.type])\n",
    "\n",
    "        "
   ]
  },
  {
   "cell_type": "code",
   "execution_count": 345,
   "metadata": {},
   "outputs": [],
   "source": [
    "counter = 0\n",
    "def minimax(board, move):\n",
    "    \"\"\"returns a score for move\"\"\"\n",
    "    global counter\n",
    "    counter+= 1\n",
    "    \n",
    "    turn = board.turn\n",
    "    new_board = board.make_move(move)\n",
    "    \n",
    "    winner = new_board.winner()\n",
    "    \n",
    "    if winner == 'W' and turn == 'W':\n",
    "        return 1\n",
    "    if winner == 'B' and turn == 'B':\n",
    "        return -1\n",
    "\n",
    "    assert(winner == 'N')\n",
    "    legal_moves = new_board.legal_moves()\n",
    "    \n",
    "    if len(legal_moves) == 0:\n",
    "        return(0)\n",
    "\n",
    "    scores = [minimax(new_board, lm) for lm in legal_moves]\n",
    "    \n",
    "    if turn == 'W':\n",
    "        ret = min(scores)\n",
    "    if turn == 'B':\n",
    "        ret = max(scores)\n",
    "\n",
    "    return(ret)\n",
    "    \n",
    "    \n",
    "    "
   ]
  },
  {
   "cell_type": "code",
   "execution_count": 346,
   "metadata": {},
   "outputs": [
    {
     "name": "stdout",
     "output_type": "stream",
     "text": [
      "['E', 'E', 'E', 'E', 'E', 'E', 'E', 'E', 'E'] (W)\n",
      "0 W 0\n",
      "1 W 0\n",
      "2 W 0\n",
      "3 W 0\n",
      "4 W 0\n",
      "5 W 0\n",
      "6 W 0\n",
      "7 W 0\n",
      "8 W 0\n"
     ]
    }
   ],
   "source": [
    "pB = Piece('B')\n",
    "pW = Piece('W')\n",
    "pE = Piece('E')\n",
    "\n",
    "pos = {i: pE for i in range(9)}\n",
    "\n",
    "#pos[0] = pW\n",
    "# pos[1] = pB\n",
    "# pos[2] = pW\n",
    "# pos[4] = pB\n",
    "#pos[3] = pW\n",
    "#pos[8] = pB\n",
    "#pos[0] = pB\n",
    "\n",
    "board = Board(pos, 'W')\n",
    "\n",
    "print(board)\n",
    "legal_moves = board.legal_moves()\n",
    "\n",
    "score = [minimax(board, move) for move in legal_moves]\n",
    "\n",
    "for (sq,p),s in zip(legal_moves, score):\n",
    "    print(sq, p, s)\n",
    "\n",
    "\n",
    "\n"
   ]
  },
  {
   "cell_type": "code",
   "execution_count": 348,
   "metadata": {},
   "outputs": [
    {
     "data": {
      "text/plain": [
       "(549945, 362880)"
      ]
     },
     "execution_count": 348,
     "metadata": {},
     "output_type": "execute_result"
    }
   ],
   "source": [
    "from math import factorial\n",
    "counter, factorial(9)"
   ]
  }
 ],
 "metadata": {
  "kernelspec": {
   "display_name": "Python 3",
   "language": "python",
   "name": "python3"
  },
  "language_info": {
   "codemirror_mode": {
    "name": "ipython",
    "version": 3
   },
   "file_extension": ".py",
   "mimetype": "text/x-python",
   "name": "python",
   "nbconvert_exporter": "python",
   "pygments_lexer": "ipython3",
   "version": "3.7.7"
  }
 },
 "nbformat": 4,
 "nbformat_minor": 4
}
